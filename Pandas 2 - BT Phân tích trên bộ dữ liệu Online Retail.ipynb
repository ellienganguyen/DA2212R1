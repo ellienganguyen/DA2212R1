{
 "cells": [
  {
   "cell_type": "code",
   "execution_count": null,
   "metadata": {},
   "outputs": [],
   "source": [
    "# [Bài tập] Phân tích trên bộ dữ liệu Online Retail\n",
    "    #1 Đọc bộ dữ liệu, cho biết số dòng, số cột và kiểu dữ liệu của các thuộc tính.\n",
    "    #2. Xây dựng bảng Pivot table, với mỗi Số hóa đơn tính trung bình cộng số lượng các mặt hàng theo từng Quốc gia. \n",
    "    #3. Xây dựng bảng Pivot table, với mỗi Khách hàng cho biết số lượng mua hàng lớn nhất và nhỏ nhất theo Kho.\n",
    "    #4. Xây dựng bảng Pivot table, với mỗi Mã kho tính tổng số lượng các mặt hàng và trung bình cộng giá.\n",
    "    #5. Xây dựng bảng Pivot table cho biết tổng số lượng hàng bán được của mỗi ngày."
   ]
  },
  {
   "cell_type": "code",
   "execution_count": 29,
   "metadata": {},
   "outputs": [],
   "source": [
    "import pandas as pd\n",
    "import numpy as np\n"
   ]
  },
  {
   "cell_type": "code",
   "execution_count": 32,
   "metadata": {},
   "outputs": [
    {
     "name": "stdout",
     "output_type": "stream",
     "text": [
      "<class 'pandas.core.frame.DataFrame'>\n",
      "RangeIndex: 541909 entries, 0 to 541908\n",
      "Data columns (total 8 columns):\n",
      " #   Column       Non-Null Count   Dtype  \n",
      "---  ------       --------------   -----  \n",
      " 0   InvoiceNo    541909 non-null  object \n",
      " 1   StockCode    541909 non-null  object \n",
      " 2   Description  540455 non-null  object \n",
      " 3   Quantity     541909 non-null  int64  \n",
      " 4   InvoiceDate  541909 non-null  object \n",
      " 5   UnitPrice    541909 non-null  float64\n",
      " 6   CustomerID   406829 non-null  float64\n",
      " 7   Country      541909 non-null  object \n",
      "dtypes: float64(2), int64(1), object(5)\n",
      "memory usage: 33.1+ MB\n"
     ]
    },
    {
     "data": {
      "text/plain": [
       "(541909, 8)"
      ]
     },
     "execution_count": 32,
     "metadata": {},
     "output_type": "execute_result"
    }
   ],
   "source": [
    "df = pd.read_csv(\"D:\\DA-Class\\DA2212R1\\OnlineRetail.csv\", encoding='unicode_escape')\n",
    "df.info()\n",
    "df.shape\n"
   ]
  },
  {
   "cell_type": "code",
   "execution_count": 33,
   "metadata": {},
   "outputs": [
    {
     "name": "stdout",
     "output_type": "stream",
     "text": [
      "Country    Australia  Austria  Bahrain  Belgium  Brazil  Canada  \\\n",
      "InvoiceNo                                                         \n",
      "536365           NaN      NaN      NaN      NaN     NaN     NaN   \n",
      "536366           NaN      NaN      NaN      NaN     NaN     NaN   \n",
      "536367           NaN      NaN      NaN      NaN     NaN     NaN   \n",
      "536368           NaN      NaN      NaN      NaN     NaN     NaN   \n",
      "536369           NaN      NaN      NaN      NaN     NaN     NaN   \n",
      "...              ...      ...      ...      ...     ...     ...   \n",
      "C581484          NaN      NaN      NaN      NaN     NaN     NaN   \n",
      "C581490          NaN      NaN      NaN      NaN     NaN     NaN   \n",
      "C581499          NaN      NaN      NaN      NaN     NaN     NaN   \n",
      "C581568          NaN      NaN      NaN      NaN     NaN     NaN   \n",
      "C581569          NaN      NaN      NaN      NaN     NaN     NaN   \n",
      "\n",
      "Country    Channel Islands  Cyprus  Czech Republic  Denmark  ...  RSA  \\\n",
      "InvoiceNo                                                    ...        \n",
      "536365                 NaN     NaN             NaN      NaN  ...  NaN   \n",
      "536366                 NaN     NaN             NaN      NaN  ...  NaN   \n",
      "536367                 NaN     NaN             NaN      NaN  ...  NaN   \n",
      "536368                 NaN     NaN             NaN      NaN  ...  NaN   \n",
      "536369                 NaN     NaN             NaN      NaN  ...  NaN   \n",
      "...                    ...     ...             ...      ...  ...  ...   \n",
      "C581484                NaN     NaN             NaN      NaN  ...  NaN   \n",
      "C581490                NaN     NaN             NaN      NaN  ...  NaN   \n",
      "C581499                NaN     NaN             NaN      NaN  ...  NaN   \n",
      "C581568                NaN     NaN             NaN      NaN  ...  NaN   \n",
      "C581569                NaN     NaN             NaN      NaN  ...  NaN   \n",
      "\n",
      "Country    Saudi Arabia  Singapore  Spain  Sweden  Switzerland  USA  \\\n",
      "InvoiceNo                                                             \n",
      "536365              NaN        NaN    NaN     NaN          NaN  NaN   \n",
      "536366              NaN        NaN    NaN     NaN          NaN  NaN   \n",
      "536367              NaN        NaN    NaN     NaN          NaN  NaN   \n",
      "536368              NaN        NaN    NaN     NaN          NaN  NaN   \n",
      "536369              NaN        NaN    NaN     NaN          NaN  NaN   \n",
      "...                 ...        ...    ...     ...          ...  ...   \n",
      "C581484             NaN        NaN    NaN     NaN          NaN  NaN   \n",
      "C581490             NaN        NaN    NaN     NaN          NaN  NaN   \n",
      "C581499             NaN        NaN    NaN     NaN          NaN  NaN   \n",
      "C581568             NaN        NaN    NaN     NaN          NaN  NaN   \n",
      "C581569             NaN        NaN    NaN     NaN          NaN  NaN   \n",
      "\n",
      "Country    United Arab Emirates  United Kingdom  Unspecified  \n",
      "InvoiceNo                                                     \n",
      "536365                      NaN        5.714286          NaN  \n",
      "536366                      NaN        6.000000          NaN  \n",
      "536367                      NaN        6.916667          NaN  \n",
      "536368                      NaN        3.750000          NaN  \n",
      "536369                      NaN        3.000000          NaN  \n",
      "...                         ...             ...          ...  \n",
      "C581484                     NaN   -80995.000000          NaN  \n",
      "C581490                     NaN      -11.500000          NaN  \n",
      "C581499                     NaN       -1.000000          NaN  \n",
      "C581568                     NaN       -5.000000          NaN  \n",
      "C581569                     NaN       -3.000000          NaN  \n",
      "\n",
      "[25900 rows x 38 columns]\n"
     ]
    }
   ],
   "source": [
    "#2. Xây dựng bảng Pivot table, với mỗi Số hóa đơn tính trung bình cộng số lượng các mặt hàng theo từng Quốc gia.\n",
    "\n",
    "\n",
    "pivot_table = df.pivot_table(values='Quantity', index='InvoiceNo', columns='Country', aggfunc={'Quantity':np.mean})\n",
    "print(pivot_table)\n"
   ]
  },
  {
   "cell_type": "code",
   "execution_count": 34,
   "metadata": {},
   "outputs": [
    {
     "data": {
      "text/plain": [
       "Index(['InvoiceNo', 'StockCode', 'Description', 'Quantity', 'InvoiceDate',\n",
       "       'UnitPrice', 'CustomerID', 'Country'],\n",
       "      dtype='object')"
      ]
     },
     "execution_count": 34,
     "metadata": {},
     "output_type": "execute_result"
    }
   ],
   "source": [
    "df.columns"
   ]
  },
  {
   "cell_type": "code",
   "execution_count": 35,
   "metadata": {},
   "outputs": [
    {
     "name": "stdout",
     "output_type": "stream",
     "text": [
      "             max                                                           \\\n",
      "StockCode  10002 10080 10120 10123C 10124A 10124G 10125 10133 10135 11001   \n",
      "CustomerID                                                                  \n",
      "12346.0      NaN   NaN   NaN    NaN    NaN    NaN   NaN   NaN   NaN   NaN   \n",
      "12347.0      NaN   NaN   NaN    NaN    NaN    NaN   NaN   NaN   NaN   NaN   \n",
      "12348.0      NaN   NaN   NaN    NaN    NaN    NaN   NaN   NaN   NaN   NaN   \n",
      "12349.0      NaN   NaN   NaN    NaN    NaN    NaN   NaN   NaN   NaN   NaN   \n",
      "12350.0      NaN   NaN   NaN    NaN    NaN    NaN   NaN   NaN   NaN   NaN   \n",
      "...          ...   ...   ...    ...    ...    ...   ...   ...   ...   ...   \n",
      "18280.0      NaN   NaN   NaN    NaN    NaN    NaN   NaN   NaN   NaN   NaN   \n",
      "18281.0      NaN   NaN   NaN    NaN    NaN    NaN   NaN   NaN   NaN   NaN   \n",
      "18282.0      NaN   NaN   NaN    NaN    NaN    NaN   NaN   NaN   NaN   NaN   \n",
      "18283.0      NaN   NaN   NaN    NaN    NaN    NaN   NaN   NaN   NaN   NaN   \n",
      "18287.0      NaN   NaN   NaN    NaN    NaN    NaN   NaN   NaN   NaN   NaN   \n",
      "\n",
      "            ...    min                                                      \n",
      "StockCode   ... 90214Y 90214Z BANK CHARGES  C2 CRUK   D DOT    M PADS POST  \n",
      "CustomerID  ...                                                             \n",
      "12346.0     ...    NaN    NaN          NaN NaN  NaN NaN NaN  NaN  NaN  NaN  \n",
      "12347.0     ...    NaN    NaN          NaN NaN  NaN NaN NaN  NaN  NaN  NaN  \n",
      "12348.0     ...    NaN    NaN          NaN NaN  NaN NaN NaN  NaN  NaN  1.0  \n",
      "12349.0     ...    NaN    NaN          NaN NaN  NaN NaN NaN  NaN  NaN  1.0  \n",
      "12350.0     ...    NaN    NaN          NaN NaN  NaN NaN NaN  NaN  NaN  1.0  \n",
      "...         ...    ...    ...          ...  ..  ...  ..  ..  ...  ...  ...  \n",
      "18280.0     ...    NaN    NaN          NaN NaN  NaN NaN NaN  NaN  NaN  NaN  \n",
      "18281.0     ...    NaN    NaN          NaN NaN  NaN NaN NaN  NaN  NaN  NaN  \n",
      "18282.0     ...    NaN    NaN          NaN NaN  NaN NaN NaN  NaN  NaN  NaN  \n",
      "18283.0     ...    NaN    NaN          NaN NaN  NaN NaN NaN  1.0  NaN  NaN  \n",
      "18287.0     ...    NaN    NaN          NaN NaN  NaN NaN NaN  NaN  NaN  NaN  \n",
      "\n",
      "[4372 rows x 7368 columns]\n"
     ]
    }
   ],
   "source": [
    " #3. Xây dựng bảng Pivot table, với mỗi Khách hàng cho biết số lượng mua hàng lớn nhất và nhỏ nhất theo Kho.\n",
    "\n",
    "df2 = df.pivot_table(values='Quantity', index='CustomerID', columns='StockCode',aggfunc={min, max})\n",
    "\n",
    "print(df2)"
   ]
  },
  {
   "cell_type": "code",
   "execution_count": 36,
   "metadata": {},
   "outputs": [
    {
     "name": "stdout",
     "output_type": "stream",
     "text": [
      "              Quantity Total  Unit Price Average\n",
      "StockCode                                       \n",
      "10002                   1037            1.056849\n",
      "10080                    495            0.376667\n",
      "10120                    193            0.210000\n",
      "10123C                   -13            0.487500\n",
      "10123G                   -38            0.000000\n",
      "...                      ...                 ...\n",
      "gift_0001_20              20           15.038000\n",
      "gift_0001_30              37           21.941250\n",
      "gift_0001_40               3           33.566667\n",
      "gift_0001_50               4           41.890000\n",
      "m                          1            2.550000\n",
      "\n",
      "[4070 rows x 2 columns]\n"
     ]
    },
    {
     "data": {
      "text/plain": [
       "Index(['Quantity Total', 'Unit Price Average'], dtype='object')"
      ]
     },
     "execution_count": 36,
     "metadata": {},
     "output_type": "execute_result"
    }
   ],
   "source": [
    "#4. Xây dựng bảng Pivot table, với mỗi Mã kho tính tổng số lượng các mặt hàng và trung bình cộng giá.\n",
    "df3 = df.pivot_table(values=['Quantity','UnitPrice'], index='StockCode', aggfunc={'Quantity':np.sum, 'UnitPrice':np.mean})\n",
    "df3.rename(columns={'Quantity':'Quantity Total', 'UnitPrice':'Unit Price Average'}, inplace=True)\n",
    "\n",
    "print(df3)"
   ]
  },
  {
   "cell_type": "code",
   "execution_count": 45,
   "metadata": {},
   "outputs": [
    {
     "name": "stdout",
     "output_type": "stream",
     "text": [
      "                 Quantity Total\n",
      "InvoiceDate_new                \n",
      "2010-12-01                26814\n",
      "2010-12-02                21023\n",
      "2010-12-03                14830\n",
      "2010-12-05                16395\n",
      "2010-12-06                21419\n",
      "...                         ...\n",
      "2011-12-05                44119\n",
      "2011-12-06                29026\n",
      "2011-12-07                39612\n",
      "2011-12-08                34460\n",
      "2011-12-09                12949\n",
      "\n",
      "[305 rows x 1 columns]\n"
     ]
    }
   ],
   "source": [
    "#5. Xây dựng bảng Pivot table cho biết tổng số lượng hàng bán được của mỗi ngày.\n",
    "\n",
    "# Chuyển đổi kiểu dữ liệu của cột InvoiceDate từ chuỗi sang đối tượng datetime\n",
    "df['InvoiceDate'] = pd.to_datetime(df['InvoiceDate'])\n",
    "\n",
    "# Tạo cột mới là InvoiceDate_new để lấy ngày của InvoiceDate\n",
    "df['InvoiceDate_new'] = df['InvoiceDate'].dt.date\n",
    "\n",
    "df4 = df.pivot_table(values='Quantity', index='InvoiceDate_new', aggfunc={'Quantity':np.sum})\n",
    "df4.rename(columns={'Quantity':'Quantity Total'}, inplace=True)\n",
    "\n",
    "print(df4)"
   ]
  }
 ],
 "metadata": {
  "kernelspec": {
   "display_name": "Python 3",
   "language": "python",
   "name": "python3"
  },
  "language_info": {
   "codemirror_mode": {
    "name": "ipython",
    "version": 3
   },
   "file_extension": ".py",
   "mimetype": "text/x-python",
   "name": "python",
   "nbconvert_exporter": "python",
   "pygments_lexer": "ipython3",
   "version": "3.11.2"
  },
  "orig_nbformat": 4
 },
 "nbformat": 4,
 "nbformat_minor": 2
}
