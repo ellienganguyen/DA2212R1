{
 "cells": [
  {
   "cell_type": "markdown",
   "metadata": {},
   "source": []
  },
  {
   "cell_type": "code",
   "execution_count": 2,
   "metadata": {},
   "outputs": [],
   "source": [
    "import pandas as pd\n",
    "import numpy as np\n"
   ]
  },
  {
   "cell_type": "code",
   "execution_count": 4,
   "metadata": {},
   "outputs": [
    {
     "name": "stdout",
     "output_type": "stream",
     "text": [
      "<class 'pandas.core.frame.DataFrame'>\n",
      "RangeIndex: 541909 entries, 0 to 541908\n",
      "Data columns (total 8 columns):\n",
      " #   Column       Non-Null Count   Dtype  \n",
      "---  ------       --------------   -----  \n",
      " 0   InvoiceNo    541909 non-null  object \n",
      " 1   StockCode    541909 non-null  object \n",
      " 2   Description  540455 non-null  object \n",
      " 3   Quantity     541909 non-null  int64  \n",
      " 4   InvoiceDate  541909 non-null  object \n",
      " 5   UnitPrice    541909 non-null  float64\n",
      " 6   CustomerID   406829 non-null  float64\n",
      " 7   Country      541909 non-null  object \n",
      "dtypes: float64(2), int64(1), object(5)\n",
      "memory usage: 33.1+ MB\n"
     ]
    },
    {
     "data": {
      "text/plain": [
       "(541909, 8)"
      ]
     },
     "execution_count": 4,
     "metadata": {},
     "output_type": "execute_result"
    }
   ],
   "source": [
    "df = pd.read_csv(\"D:\\DA-Class\\DA2212R1\\OnlineRetail.csv\", encoding='unicode_escape')\n",
    "df.info()\n",
    "df.shape\n"
   ]
  },
  {
   "cell_type": "code",
   "execution_count": 4,
   "metadata": {},
   "outputs": [
    {
     "name": "stdout",
     "output_type": "stream",
     "text": [
      "       InvoiceNo      InvoiceDate\n",
      "0         536365   12/1/2010 8:26\n",
      "1         536365   12/1/2010 8:26\n",
      "2         536365   12/1/2010 8:26\n",
      "3         536365   12/1/2010 8:26\n",
      "4         536365   12/1/2010 8:26\n",
      "...          ...              ...\n",
      "541904    581587  12/9/2011 12:50\n",
      "541905    581587  12/9/2011 12:50\n",
      "541906    581587  12/9/2011 12:50\n",
      "541907    581587  12/9/2011 12:50\n",
      "541908    581587  12/9/2011 12:50\n",
      "\n",
      "[541909 rows x 2 columns]\n"
     ]
    }
   ],
   "source": [
    "df1 = df.filter(['InvoiceNo', 'InvoiceDate'])\n",
    "print(df1)"
   ]
  },
  {
   "cell_type": "code",
   "execution_count": 5,
   "metadata": {},
   "outputs": [
    {
     "name": "stdout",
     "output_type": "stream",
     "text": [
      "  InvoiceNo StockCode                        Description  Quantity  \\\n",
      "2    536365    84406B     CREAM CUPID HEARTS COAT HANGER         8   \n",
      "4    536365    84029E     RED WOOLLY HOTTIE WHITE HEART.         6   \n",
      "6    536365     21730  GLASS STAR FROSTED T-LIGHT HOLDER         6   \n",
      "8    536366     22632          HAND WARMER RED POLKA DOT         6   \n",
      "\n",
      "      InvoiceDate  UnitPrice  CustomerID         Country  \n",
      "2  12/1/2010 8:26       2.75     17850.0  United Kingdom  \n",
      "4  12/1/2010 8:26       3.39     17850.0  United Kingdom  \n",
      "6  12/1/2010 8:26       4.25     17850.0  United Kingdom  \n",
      "8  12/1/2010 8:28       1.85     17850.0  United Kingdom  \n"
     ]
    }
   ],
   "source": [
    "df3 = df.filter([2,4,6,8], axis=0)\n",
    "print(df3)"
   ]
  },
  {
   "cell_type": "code",
   "execution_count": 7,
   "metadata": {},
   "outputs": [
    {
     "name": "stdout",
     "output_type": "stream",
     "text": [
      "  InvoiceNo StockCode                          Description  Quantity  \\\n",
      "0    536365    85123A   WHITE HANGING HEART T-LIGHT HOLDER         6   \n",
      "1    536365     71053                  WHITE METAL LANTERN         6   \n",
      "2    536365    84406B       CREAM CUPID HEARTS COAT HANGER         8   \n",
      "3    536365    84029G  KNITTED UNION FLAG HOT WATER BOTTLE         6   \n",
      "4    536365    84029E       RED WOOLLY HOTTIE WHITE HEART.         6   \n",
      "5    536365     22752         SET 7 BABUSHKA NESTING BOXES         2   \n",
      "6    536365     21730    GLASS STAR FROSTED T-LIGHT HOLDER         6   \n",
      "7    536366     22633               HAND WARMER UNION JACK         6   \n",
      "\n",
      "      InvoiceDate  UnitPrice  CustomerID         Country  \n",
      "0  12/1/2010 8:26       2.55     17850.0  United Kingdom  \n",
      "1  12/1/2010 8:26       3.39     17850.0  United Kingdom  \n",
      "2  12/1/2010 8:26       2.75     17850.0  United Kingdom  \n",
      "3  12/1/2010 8:26       3.39     17850.0  United Kingdom  \n",
      "4  12/1/2010 8:26       3.39     17850.0  United Kingdom  \n",
      "5  12/1/2010 8:26       7.65     17850.0  United Kingdom  \n",
      "6  12/1/2010 8:26       4.25     17850.0  United Kingdom  \n",
      "7  12/1/2010 8:28       1.85     17850.0  United Kingdom  \n"
     ]
    }
   ],
   "source": [
    "df4 = df[0:8]\n",
    "print(df4)"
   ]
  },
  {
   "cell_type": "code",
   "execution_count": 10,
   "metadata": {},
   "outputs": [
    {
     "name": "stdout",
     "output_type": "stream",
     "text": [
      "       InvoiceNo StockCode                      Description  Quantity  \\\n",
      "26        536370     22728        ALARM CLOCK BAKELIKE PINK        24   \n",
      "27        536370     22727        ALARM CLOCK BAKELIKE RED         24   \n",
      "28        536370     22726       ALARM CLOCK BAKELIKE GREEN        12   \n",
      "29        536370     21724  PANDA AND BUNNIES STICKER SHEET        12   \n",
      "30        536370     21883                 STARS GIFT TAPE         24   \n",
      "...          ...       ...                              ...       ...   \n",
      "541895    581587     22556   PLASTERS IN TIN CIRCUS PARADE         12   \n",
      "541896    581587     22555        PLASTERS IN TIN STRONGMAN        12   \n",
      "541901    581587     22367  CHILDRENS APRON SPACEBOY DESIGN         8   \n",
      "541902    581587     22629              SPACEBOY LUNCH BOX         12   \n",
      "541904    581587     22613      PACK OF 20 SPACEBOY NAPKINS        12   \n",
      "\n",
      "            InvoiceDate  UnitPrice  CustomerID Country  \n",
      "26       12/1/2010 8:45       3.75     12583.0  France  \n",
      "27       12/1/2010 8:45       3.75     12583.0  France  \n",
      "28       12/1/2010 8:45       3.75     12583.0  France  \n",
      "29       12/1/2010 8:45       0.85     12583.0  France  \n",
      "30       12/1/2010 8:45       0.65     12583.0  France  \n",
      "...                 ...        ...         ...     ...  \n",
      "541895  12/9/2011 12:50       1.65     12680.0  France  \n",
      "541896  12/9/2011 12:50       1.65     12680.0  France  \n",
      "541901  12/9/2011 12:50       1.95     12680.0  France  \n",
      "541902  12/9/2011 12:50       1.95     12680.0  France  \n",
      "541904  12/9/2011 12:50       0.85     12680.0  France  \n",
      "\n",
      "[5190 rows x 8 columns]\n"
     ]
    }
   ],
   "source": [
    "df5 = df.query(\"(Quantity > 6) and (Country == 'France')\")\n",
    "print(df5)"
   ]
  },
  {
   "cell_type": "code",
   "execution_count": 11,
   "metadata": {},
   "outputs": [
    {
     "name": "stdout",
     "output_type": "stream",
     "text": [
      "Country\n",
      "Australia                 83653\n",
      "Austria                    4827\n",
      "Bahrain                     260\n",
      "Belgium                   23152\n",
      "Brazil                      356\n",
      "Canada                     2763\n",
      "Channel Islands            9479\n",
      "Cyprus                     6317\n",
      "Czech Republic              592\n",
      "Denmark                    8188\n",
      "EIRE                     142637\n",
      "European Community          497\n",
      "Finland                   10666\n",
      "France                   110480\n",
      "Germany                  117448\n",
      "Greece                     1556\n",
      "Hong Kong                  4769\n",
      "Iceland                    2458\n",
      "Israel                     4353\n",
      "Italy                      7999\n",
      "Japan                     25218\n",
      "Lebanon                     386\n",
      "Lithuania                   652\n",
      "Malta                       944\n",
      "Netherlands              200128\n",
      "Norway                    19247\n",
      "Poland                     3653\n",
      "Portugal                  16180\n",
      "RSA                         352\n",
      "Saudi Arabia                 75\n",
      "Singapore                  5234\n",
      "Spain                     26824\n",
      "Sweden                    35637\n",
      "Switzerland               30325\n",
      "USA                        1034\n",
      "United Arab Emirates        982\n",
      "United Kingdom          4263829\n",
      "Unspecified                3300\n",
      "Name: Quantity, dtype: int64\n"
     ]
    }
   ],
   "source": [
    "df6 = df.groupby('Country')['Quantity'].sum()\n",
    "print(df6)"
   ]
  },
  {
   "cell_type": "code",
   "execution_count": 15,
   "metadata": {},
   "outputs": [
    {
     "name": "stdout",
     "output_type": "stream",
     "text": [
      "                           Quantity\n",
      "Country        CustomerID          \n",
      "Australia      12386.0          354\n",
      "               12388.0         1462\n",
      "               12393.0          816\n",
      "               12415.0        77242\n",
      "               12422.0          195\n",
      "...                             ...\n",
      "United Kingdom 18287.0         1586\n",
      "Unspecified    12363.0          408\n",
      "               12743.0          319\n",
      "               14265.0          330\n",
      "               16320.0          732\n",
      "\n",
      "[4380 rows x 1 columns]\n"
     ]
    },
    {
     "name": "stderr",
     "output_type": "stream",
     "text": [
      "C:\\Users\\ADMIN\\AppData\\Local\\Temp\\ipykernel_1180\\255191261.py:1: FutureWarning: Using the level keyword in DataFrame and Series aggregations is deprecated and will be removed in a future version. Use groupby instead. df.median(level=1) should use df.groupby(level=1).median().\n",
      "  df7 = df.groupby(['Country', 'CustomerID']).agg({'Quantity': 'sum'}).max(level=['Country', 'CustomerID'])\n"
     ]
    }
   ],
   "source": [
    "df7 = df.groupby(['Country', 'CustomerID']).agg({'Quantity': 'sum'}).max(level=['Country', 'CustomerID'])\n",
    "print(df7)"
   ]
  },
  {
   "cell_type": "code",
   "execution_count": 17,
   "metadata": {},
   "outputs": [
    {
     "name": "stdout",
     "output_type": "stream",
     "text": [
      "                            Country  CustomerID  Quantity\n",
      "Country                                                  \n",
      "Australia      3          Australia     12415.0     77242\n",
      "               6          Australia     12431.0      2393\n",
      "               1          Australia     12388.0      1462\n",
      "Austria        10           Austria     12360.0      1165\n",
      "               18           Austria     12818.0       923\n",
      "...                             ...         ...       ...\n",
      "United Kingdom 4237  United Kingdom     18102.0     64122\n",
      "               3808  United Kingdom     17511.0     63012\n",
      "Unspecified    4379     Unspecified     16320.0       732\n",
      "               4376     Unspecified     12363.0       408\n",
      "               4378     Unspecified     14265.0       330\n",
      "\n",
      "[90 rows x 3 columns]\n"
     ]
    }
   ],
   "source": [
    " # Nhóm dữ liệu và đặt lại index\n",
    "df8 = df.groupby(['Country', 'CustomerID'])['Quantity'].sum().reset_index() \n",
    "\n",
    "# Chọn 3 khách hàng có tổng Quantity lớn nhất\n",
    "df8 = df8.groupby('Country').apply(lambda x: x.nlargest(3, 'Quantity')) \n",
    "print(df8)"
   ]
  },
  {
   "cell_type": "code",
   "execution_count": 10,
   "metadata": {},
   "outputs": [
    {
     "name": "stdout",
     "output_type": "stream",
     "text": [
      "       InvoiceNo StockCode                          Description  Quantity  \\\n",
      "0         536365    85123A   WHITE HANGING HEART T-LIGHT HOLDER         6   \n",
      "1         536365     71053                  WHITE METAL LANTERN         6   \n",
      "2         536365    84406B       CREAM CUPID HEARTS COAT HANGER         8   \n",
      "3         536365    84029G  KNITTED UNION FLAG HOT WATER BOTTLE         6   \n",
      "4         536365    84029E       RED WOOLLY HOTTIE WHITE HEART.         6   \n",
      "...          ...       ...                                  ...       ...   \n",
      "541904    581587     22613          PACK OF 20 SPACEBOY NAPKINS        12   \n",
      "541905    581587     22899         CHILDREN'S APRON DOLLY GIRL          6   \n",
      "541906    581587     23254        CHILDRENS CUTLERY DOLLY GIRL          4   \n",
      "541907    581587     23255      CHILDRENS CUTLERY CIRCUS PARADE         4   \n",
      "541908    581587     22138        BAKING SET 9 PIECE RETROSPOT          3   \n",
      "\n",
      "            InvoiceDate  UnitPrice  CustomerID         Country  Total  \n",
      "0        12/1/2010 8:26       2.55     17850.0  United Kingdom  15.30  \n",
      "1        12/1/2010 8:26       3.39     17850.0  United Kingdom  20.34  \n",
      "2        12/1/2010 8:26       2.75     17850.0  United Kingdom  22.00  \n",
      "3        12/1/2010 8:26       3.39     17850.0  United Kingdom  20.34  \n",
      "4        12/1/2010 8:26       3.39     17850.0  United Kingdom  20.34  \n",
      "...                 ...        ...         ...             ...    ...  \n",
      "541904  12/9/2011 12:50       0.85     12680.0          France  10.20  \n",
      "541905  12/9/2011 12:50       2.10     12680.0          France  12.60  \n",
      "541906  12/9/2011 12:50       4.15     12680.0          France  16.60  \n",
      "541907  12/9/2011 12:50       4.15     12680.0          France  16.60  \n",
      "541908  12/9/2011 12:50       4.95     12680.0          France  14.85  \n",
      "\n",
      "[541909 rows x 9 columns]\n"
     ]
    }
   ],
   "source": [
    "tmp = pd.DataFrame()\n",
    "tmp = df\n",
    "tmp['Total'] = df['Quantity'] * df['UnitPrice']\n",
    "print(tmp)"
   ]
  },
  {
   "cell_type": "code",
   "execution_count": 11,
   "metadata": {},
   "outputs": [
    {
     "name": "stdout",
     "output_type": "stream",
     "text": [
      "       InvoiceNo StockCode                          Description  Quantity  \\\n",
      "0         536365    85123A   WHITE HANGING HEART T-LIGHT HOLDER         6   \n",
      "1         536365     71053                  WHITE METAL LANTERN         6   \n",
      "2         536365    84406B       CREAM CUPID HEARTS COAT HANGER         8   \n",
      "3         536365    84029G  KNITTED UNION FLAG HOT WATER BOTTLE         6   \n",
      "4         536365    84029E       RED WOOLLY HOTTIE WHITE HEART.         6   \n",
      "...          ...       ...                                  ...       ...   \n",
      "541904    581587     22613          PACK OF 20 SPACEBOY NAPKINS        12   \n",
      "541905    581587     22899         CHILDREN'S APRON DOLLY GIRL          6   \n",
      "541906    581587     23254        CHILDRENS CUTLERY DOLLY GIRL          4   \n",
      "541907    581587     23255      CHILDRENS CUTLERY CIRCUS PARADE         4   \n",
      "541908    581587     22138        BAKING SET 9 PIECE RETROSPOT          3   \n",
      "\n",
      "            InvoiceDate  UnitPrice  CustomerID         Country  Total  \\\n",
      "0        12/1/2010 8:26       2.55     17850.0  United Kingdom  15.30   \n",
      "1        12/1/2010 8:26       3.39     17850.0  United Kingdom  20.34   \n",
      "2        12/1/2010 8:26       2.75     17850.0  United Kingdom  22.00   \n",
      "3        12/1/2010 8:26       3.39     17850.0  United Kingdom  20.34   \n",
      "4        12/1/2010 8:26       3.39     17850.0  United Kingdom  20.34   \n",
      "...                 ...        ...         ...             ...    ...   \n",
      "541904  12/9/2011 12:50       0.85     12680.0          France  10.20   \n",
      "541905  12/9/2011 12:50       2.10     12680.0          France  12.60   \n",
      "541906  12/9/2011 12:50       4.15     12680.0          France  16.60   \n",
      "541907  12/9/2011 12:50       4.15     12680.0          France  16.60   \n",
      "541908  12/9/2011 12:50       4.95     12680.0          France  14.85   \n",
      "\n",
      "                rate  \n",
      "0             normal  \n",
      "1             normal  \n",
      "2             normal  \n",
      "3             normal  \n",
      "4             normal  \n",
      "...              ...  \n",
      "541904  big customer  \n",
      "541905        normal  \n",
      "541906        normal  \n",
      "541907        normal  \n",
      "541908        normal  \n",
      "\n",
      "[541909 rows x 10 columns]\n"
     ]
    }
   ],
   "source": [
    "tmp['rate'] = np.where(tmp['Quantity']>= 10, 'big customer', 'normal')\n",
    "print(tmp)"
   ]
  },
  {
   "cell_type": "code",
   "execution_count": 12,
   "metadata": {},
   "outputs": [
    {
     "data": {
      "text/plain": [
       "Index(['InvoiceNo', 'StockCode', 'Description', 'Quantity', 'InvoiceDate',\n",
       "       'UnitPrice', 'CustomerID', 'Country', 'Total', 'rate'],\n",
       "      dtype='object')"
      ]
     },
     "execution_count": 12,
     "metadata": {},
     "output_type": "execute_result"
    }
   ],
   "source": [
    "tmp.columns"
   ]
  },
  {
   "cell_type": "code",
   "execution_count": 15,
   "metadata": {},
   "outputs": [
    {
     "name": "stdout",
     "output_type": "stream",
     "text": [
      "       InvoiceNo  Quantity  CustomerID         Country  Total          rate\n",
      "0         536365         6     17850.0  United Kingdom  15.30        normal\n",
      "1         536365         6     17850.0  United Kingdom  20.34        normal\n",
      "2         536365         8     17850.0  United Kingdom  22.00        normal\n",
      "3         536365         6     17850.0  United Kingdom  20.34        normal\n",
      "4         536365         6     17850.0  United Kingdom  20.34        normal\n",
      "...          ...       ...         ...             ...    ...           ...\n",
      "541904    581587        12     12680.0          France  10.20  big customer\n",
      "541905    581587         6     12680.0          France  12.60        normal\n",
      "541906    581587         4     12680.0          France  16.60        normal\n",
      "541907    581587         4     12680.0          France  16.60        normal\n",
      "541908    581587         3     12680.0          France  14.85        normal\n",
      "\n",
      "[541909 rows x 6 columns]\n"
     ]
    }
   ],
   "source": [
    "tmp1= tmp[['InvoiceNo', 'Quantity', 'CustomerID', 'Country', 'Total', 'rate']]\n",
    "print(tmp1)"
   ]
  },
  {
   "cell_type": "code",
   "execution_count": null,
   "metadata": {},
   "outputs": [],
   "source": [
    "1. Sử dụng các phép toán số học\n",
    "2. Sử dụng phép toán nối chuỗi\n",
    "3. Sử dụng các toán tử so sánh tạo cột mới thỏa mãn điều kiện của đề bài\n",
    "4. Sử dụng np.where trong trường hợp điều kiện có 2 sự lựa chọn\n",
    "5. Sử dụng np.select trong trường hợp điều kiện có từ 2 sự lựa chọn trở lên"
   ]
  }
 ],
 "metadata": {
  "kernelspec": {
   "display_name": "Python 3",
   "language": "python",
   "name": "python3"
  },
  "language_info": {
   "codemirror_mode": {
    "name": "ipython",
    "version": 3
   },
   "file_extension": ".py",
   "mimetype": "text/x-python",
   "name": "python",
   "nbconvert_exporter": "python",
   "pygments_lexer": "ipython3",
   "version": "3.11.2"
  },
  "orig_nbformat": 4
 },
 "nbformat": 4,
 "nbformat_minor": 2
}
