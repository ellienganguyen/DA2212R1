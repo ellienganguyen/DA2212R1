{
 "cells": [
  {
   "cell_type": "markdown",
   "metadata": {},
   "source": [
    "# Nguyễn Đỗ Hoàng Nga - 23. Xây dựng  mô hình dự báo giá nhà trên/m2 \n",
    "# của bài toán mua bán nhà mặt phố Quận Ba Đình"
   ]
  },
  {
   "cell_type": "code",
   "execution_count": 39,
   "metadata": {},
   "outputs": [],
   "source": [
    "\n",
    "import pandas as pd\n",
    "import numpy as np\n",
    "from sklearn.linear_model import LinearRegression, LogisticRegression\n",
    "from sklearn.model_selection import train_test_split\n",
    "from sklearn.metrics import r2_score, mean_absolute_error, mean_squared_error, mean_absolute_percentage_error\n",
    "import seaborn as sns\n",
    "from sklearn.preprocessing import MinMaxScaler, RobustScaler, StandardScaler\n",
    "from sklearn.preprocessing import LabelEncoder, OneHotEncoder, OrdinalEncoder"
   ]
  },
  {
   "attachments": {},
   "cell_type": "markdown",
   "metadata": {},
   "source": [
    "### CHOSING TARGET DATA"
   ]
  },
  {
   "cell_type": "code",
   "execution_count": 40,
   "metadata": {},
   "outputs": [
    {
     "name": "stdout",
     "output_type": "stream",
     "text": [
      "Index(['Unnamed: 0', 'dien_tich', 'huong_ban_cong', 'phong_ngu',\n",
      "       'id_thanh_pho', 'ten_thanh_pho', 'id_quan', 'ten_quan', 'so_tang',\n",
      "       'mat_tien', 'noi_that', 'huong_nha', 'so_do', 'lat', 'long', 'gia',\n",
      "       'gia_m2', 'du_an', 'project_name', 'id_duong', 'ten_duong',\n",
      "       'do_rong_duong', 'do_rong_duong_ml', 'id_phuong', 'ten_phuong'],\n",
      "      dtype='object')\n",
      "(62847, 25)\n"
     ]
    }
   ],
   "source": [
    "data = pd.read_csv(\"D:\\DA-Class\\DA2212R1\\End_of_term\\RoadSurfaceHouseTrading.csv\")\n",
    "print(data.columns)\n",
    "print(data.shape)"
   ]
  },
  {
   "attachments": {},
   "cell_type": "markdown",
   "metadata": {},
   "source": []
  },
  {
   "cell_type": "code",
   "execution_count": 41,
   "metadata": {},
   "outputs": [
    {
     "data": {
      "text/plain": [
       "(4969, 25)"
      ]
     },
     "execution_count": 41,
     "metadata": {},
     "output_type": "execute_result"
    }
   ],
   "source": [
    "#Chọn dữ liệu của quận Ba Đình\n",
    "data_target = data[data[\"id_quan\"] == \"5e5501caeb80a7245175de1a\"]\n",
    "data_target.shape"
   ]
  },
  {
   "cell_type": "code",
   "execution_count": 42,
   "metadata": {},
   "outputs": [
    {
     "data": {
      "text/html": [
       "<div>\n",
       "<style scoped>\n",
       "    .dataframe tbody tr th:only-of-type {\n",
       "        vertical-align: middle;\n",
       "    }\n",
       "\n",
       "    .dataframe tbody tr th {\n",
       "        vertical-align: top;\n",
       "    }\n",
       "\n",
       "    .dataframe thead th {\n",
       "        text-align: right;\n",
       "    }\n",
       "</style>\n",
       "<table border=\"1\" class=\"dataframe\">\n",
       "  <thead>\n",
       "    <tr style=\"text-align: right;\">\n",
       "      <th></th>\n",
       "      <th>Unnamed: 0</th>\n",
       "      <th>dien_tich</th>\n",
       "      <th>phong_ngu</th>\n",
       "      <th>so_tang</th>\n",
       "      <th>mat_tien</th>\n",
       "      <th>lat</th>\n",
       "      <th>long</th>\n",
       "      <th>gia</th>\n",
       "      <th>gia_m2</th>\n",
       "      <th>do_rong_duong</th>\n",
       "    </tr>\n",
       "  </thead>\n",
       "  <tbody>\n",
       "    <tr>\n",
       "      <th>count</th>\n",
       "      <td>4969.000000</td>\n",
       "      <td>4925.000000</td>\n",
       "      <td>2821.000000</td>\n",
       "      <td>3604.000000</td>\n",
       "      <td>1562.000000</td>\n",
       "      <td>4957.000000</td>\n",
       "      <td>4957.000000</td>\n",
       "      <td>4.804000e+03</td>\n",
       "      <td>4778.000000</td>\n",
       "      <td>1303.000000</td>\n",
       "    </tr>\n",
       "    <tr>\n",
       "      <th>mean</th>\n",
       "      <td>2485.000000</td>\n",
       "      <td>124.446564</td>\n",
       "      <td>13.534562</td>\n",
       "      <td>10.498335</td>\n",
       "      <td>8.514052</td>\n",
       "      <td>21.035606</td>\n",
       "      <td>105.823963</td>\n",
       "      <td>6.228145e+04</td>\n",
       "      <td>681.546143</td>\n",
       "      <td>18.536378</td>\n",
       "    </tr>\n",
       "    <tr>\n",
       "      <th>std</th>\n",
       "      <td>1434.571074</td>\n",
       "      <td>362.817339</td>\n",
       "      <td>253.354985</td>\n",
       "      <td>223.654794</td>\n",
       "      <td>26.262693</td>\n",
       "      <td>0.006399</td>\n",
       "      <td>0.012297</td>\n",
       "      <td>1.365624e+06</td>\n",
       "      <td>13743.641600</td>\n",
       "      <td>16.987857</td>\n",
       "    </tr>\n",
       "    <tr>\n",
       "      <th>min</th>\n",
       "      <td>1.000000</td>\n",
       "      <td>0.000000</td>\n",
       "      <td>1.000000</td>\n",
       "      <td>1.000000</td>\n",
       "      <td>2.000000</td>\n",
       "      <td>20.955835</td>\n",
       "      <td>105.748431</td>\n",
       "      <td>7.000000e-03</td>\n",
       "      <td>0.000200</td>\n",
       "      <td>1.000000</td>\n",
       "    </tr>\n",
       "    <tr>\n",
       "      <th>25%</th>\n",
       "      <td>1243.000000</td>\n",
       "      <td>51.000000</td>\n",
       "      <td>3.000000</td>\n",
       "      <td>4.000000</td>\n",
       "      <td>5.000000</td>\n",
       "      <td>21.031656</td>\n",
       "      <td>105.814133</td>\n",
       "      <td>1.200000e+04</td>\n",
       "      <td>208.333333</td>\n",
       "      <td>7.250000</td>\n",
       "    </tr>\n",
       "    <tr>\n",
       "      <th>50%</th>\n",
       "      <td>2485.000000</td>\n",
       "      <td>73.000000</td>\n",
       "      <td>4.000000</td>\n",
       "      <td>5.000000</td>\n",
       "      <td>6.000000</td>\n",
       "      <td>21.034570</td>\n",
       "      <td>105.820562</td>\n",
       "      <td>2.350000e+04</td>\n",
       "      <td>305.000000</td>\n",
       "      <td>15.000000</td>\n",
       "    </tr>\n",
       "    <tr>\n",
       "      <th>75%</th>\n",
       "      <td>3727.000000</td>\n",
       "      <td>110.000000</td>\n",
       "      <td>6.000000</td>\n",
       "      <td>6.000000</td>\n",
       "      <td>8.000000</td>\n",
       "      <td>21.040567</td>\n",
       "      <td>105.832811</td>\n",
       "      <td>4.200000e+04</td>\n",
       "      <td>435.000000</td>\n",
       "      <td>25.000000</td>\n",
       "    </tr>\n",
       "    <tr>\n",
       "      <th>max</th>\n",
       "      <td>4969.000000</td>\n",
       "      <td>14000.000000</td>\n",
       "      <td>9500.000000</td>\n",
       "      <td>9500.000000</td>\n",
       "      <td>999.000000</td>\n",
       "      <td>21.050173</td>\n",
       "      <td>105.863626</td>\n",
       "      <td>9.424000e+07</td>\n",
       "      <td>772727.272727</td>\n",
       "      <td>200.000000</td>\n",
       "    </tr>\n",
       "  </tbody>\n",
       "</table>\n",
       "</div>"
      ],
      "text/plain": [
       "        Unnamed: 0     dien_tich    phong_ngu      so_tang     mat_tien  \\\n",
       "count  4969.000000   4925.000000  2821.000000  3604.000000  1562.000000   \n",
       "mean   2485.000000    124.446564    13.534562    10.498335     8.514052   \n",
       "std    1434.571074    362.817339   253.354985   223.654794    26.262693   \n",
       "min       1.000000      0.000000     1.000000     1.000000     2.000000   \n",
       "25%    1243.000000     51.000000     3.000000     4.000000     5.000000   \n",
       "50%    2485.000000     73.000000     4.000000     5.000000     6.000000   \n",
       "75%    3727.000000    110.000000     6.000000     6.000000     8.000000   \n",
       "max    4969.000000  14000.000000  9500.000000  9500.000000   999.000000   \n",
       "\n",
       "               lat         long           gia         gia_m2  do_rong_duong  \n",
       "count  4957.000000  4957.000000  4.804000e+03    4778.000000    1303.000000  \n",
       "mean     21.035606   105.823963  6.228145e+04     681.546143      18.536378  \n",
       "std       0.006399     0.012297  1.365624e+06   13743.641600      16.987857  \n",
       "min      20.955835   105.748431  7.000000e-03       0.000200       1.000000  \n",
       "25%      21.031656   105.814133  1.200000e+04     208.333333       7.250000  \n",
       "50%      21.034570   105.820562  2.350000e+04     305.000000      15.000000  \n",
       "75%      21.040567   105.832811  4.200000e+04     435.000000      25.000000  \n",
       "max      21.050173   105.863626  9.424000e+07  772727.272727     200.000000  "
      ]
     },
     "execution_count": 42,
     "metadata": {},
     "output_type": "execute_result"
    }
   ],
   "source": [
    "# Mô tả dữ liệu target\n",
    "\n",
    "data_target.describe()"
   ]
  },
  {
   "attachments": {},
   "cell_type": "markdown",
   "metadata": {},
   "source": [
    "## STEP 1: DATA CLEANING"
   ]
  },
  {
   "cell_type": "code",
   "execution_count": 43,
   "metadata": {},
   "outputs": [
    {
     "data": {
      "text/plain": [
       "96.37754075266653"
      ]
     },
     "execution_count": 43,
     "metadata": {},
     "output_type": "execute_result"
    }
   ],
   "source": [
    "# Loại bỏ dữ liệu khuyết thiếu ít nhất 2 trong 3 thuộc tính 'dien_tich', 'gia', 'gia_m2'\n",
    " \n",
    "data_target1 = data_target.dropna(subset=['dien_tich', 'gia', 'gia_m2'], thresh=2)\n",
    "\n",
    "# % số lượng bản ghi còn lại\n",
    "100 * data_target1.shape[0]/data_target.shape[0]"
   ]
  },
  {
   "cell_type": "code",
   "execution_count": 44,
   "metadata": {},
   "outputs": [
    {
     "name": "stderr",
     "output_type": "stream",
     "text": [
      "C:\\Users\\ADMIN\\AppData\\Local\\Temp\\ipykernel_4308\\1748761758.py:4: FutureWarning: Not prepending group keys to the result index of transform-like apply. In the future, the group keys will be included in the index, regardless of whether the applied function returns a like-indexed object.\n",
      "To preserve the previous behavior, use\n",
      "\n",
      "\t>>> .groupby(..., group_keys=False)\n",
      "\n",
      "To adopt the future behavior and silence this warning, use \n",
      "\n",
      "\t>>> .groupby(..., group_keys=True)\n",
      "  data_target1['do_rong_duong'] = data_target1.groupby('id_duong')['do_rong_duong'].apply(lambda x: x.fillna(x.mean()))\n",
      "C:\\Users\\ADMIN\\AppData\\Local\\Temp\\ipykernel_4308\\1748761758.py:4: SettingWithCopyWarning: \n",
      "A value is trying to be set on a copy of a slice from a DataFrame.\n",
      "Try using .loc[row_indexer,col_indexer] = value instead\n",
      "\n",
      "See the caveats in the documentation: https://pandas.pydata.org/pandas-docs/stable/user_guide/indexing.html#returning-a-view-versus-a-copy\n",
      "  data_target1['do_rong_duong'] = data_target1.groupby('id_duong')['do_rong_duong'].apply(lambda x: x.fillna(x.mean()))\n",
      "C:\\Users\\ADMIN\\AppData\\Local\\Temp\\ipykernel_4308\\1748761758.py:7: SettingWithCopyWarning: \n",
      "A value is trying to be set on a copy of a slice from a DataFrame.\n",
      "Try using .loc[row_indexer,col_indexer] = value instead\n",
      "\n",
      "See the caveats in the documentation: https://pandas.pydata.org/pandas-docs/stable/user_guide/indexing.html#returning-a-view-versus-a-copy\n",
      "  data_target1['gia'] = data_target1['gia'].fillna(data_target1['gia_m2'] * data_target1['dien_tich'])\n",
      "C:\\Users\\ADMIN\\AppData\\Local\\Temp\\ipykernel_4308\\1748761758.py:9: SettingWithCopyWarning: \n",
      "A value is trying to be set on a copy of a slice from a DataFrame.\n",
      "Try using .loc[row_indexer,col_indexer] = value instead\n",
      "\n",
      "See the caveats in the documentation: https://pandas.pydata.org/pandas-docs/stable/user_guide/indexing.html#returning-a-view-versus-a-copy\n",
      "  data_target1['gia_m2'] = data_target1['gia_m2'].fillna(data_target1['gia'] / data_target1['dien_tich'])\n",
      "C:\\Users\\ADMIN\\AppData\\Local\\Temp\\ipykernel_4308\\1748761758.py:11: SettingWithCopyWarning: \n",
      "A value is trying to be set on a copy of a slice from a DataFrame.\n",
      "Try using .loc[row_indexer,col_indexer] = value instead\n",
      "\n",
      "See the caveats in the documentation: https://pandas.pydata.org/pandas-docs/stable/user_guide/indexing.html#returning-a-view-versus-a-copy\n",
      "  data_target1['dien_tich'] = data_target1['dien_tich'].fillna(data_target1['gia'] / data_target1['gia_m2'])\n",
      "C:\\Users\\ADMIN\\AppData\\Local\\Temp\\ipykernel_4308\\1748761758.py:14: SettingWithCopyWarning: \n",
      "A value is trying to be set on a copy of a slice from a DataFrame.\n",
      "Try using .loc[row_indexer,col_indexer] = value instead\n",
      "\n",
      "See the caveats in the documentation: https://pandas.pydata.org/pandas-docs/stable/user_guide/indexing.html#returning-a-view-versus-a-copy\n",
      "  data_target1['mat_tien'] = data_target1['mat_tien'].interpolate()\n"
     ]
    }
   ],
   "source": [
    "# ĐIỀN CÁC GIÁ TRỊ KHUYẾT THIẾU\n",
    "\n",
    "#Dien gia tri do_rong_duong bang mean của cùng 1 con duong\n",
    "data_target1['do_rong_duong'] = data_target1.groupby('id_duong')['do_rong_duong'].apply(lambda x: x.fillna(x.mean()))  \n",
    "\n",
    "# Dùng công thức gia = gia_m2*dien_tich để điền giá trị khuyết thiếu của cột\n",
    "data_target1['gia'] = data_target1['gia'].fillna(data_target1['gia_m2'] * data_target1['dien_tich'])\n",
    "\n",
    "data_target1['gia_m2'] = data_target1['gia_m2'].fillna(data_target1['gia'] / data_target1['dien_tich'])\n",
    "\n",
    "data_target1['dien_tich'] = data_target1['dien_tich'].fillna(data_target1['gia'] / data_target1['gia_m2'])\n",
    "\n",
    "# Dùng hàm nội suy để lấy ra giá trị có các thông số tương đồng từ các dữ liệu khác\n",
    "data_target1['mat_tien'] = data_target1['mat_tien'].interpolate()\n"
   ]
  },
  {
   "attachments": {},
   "cell_type": "markdown",
   "metadata": {},
   "source": [
    "### FEATURES SELECTION"
   ]
  },
  {
   "cell_type": "code",
   "execution_count": 45,
   "metadata": {},
   "outputs": [
    {
     "name": "stdout",
     "output_type": "stream",
     "text": [
      "<class 'pandas.core.frame.DataFrame'>\n",
      "Int64Index: 4789 entries, 1 to 4969\n",
      "Data columns (total 6 columns):\n",
      " #   Column         Non-Null Count  Dtype  \n",
      "---  ------         --------------  -----  \n",
      " 0   dien_tich      4789 non-null   float64\n",
      " 1   mat_tien       4788 non-null   float64\n",
      " 2   gia_m2         4789 non-null   float64\n",
      " 3   so_do          3274 non-null   object \n",
      " 4   do_rong_duong  4619 non-null   float64\n",
      " 5   ten_duong      4658 non-null   object \n",
      "dtypes: float64(4), object(2)\n",
      "memory usage: 261.9+ KB\n"
     ]
    }
   ],
   "source": [
    "# Chọn ra 5 features ảnh hưởng đến \"gia_m2\" của nhà mặt phố\n",
    "feature_data = data_target1[[\"dien_tich\", \"mat_tien\", \"gia_m2\",\"so_do\", \"do_rong_duong\", \"ten_duong\"]]\n",
    "feature_data.info()\n"
   ]
  },
  {
   "cell_type": "code",
   "execution_count": 46,
   "metadata": {},
   "outputs": [],
   "source": [
    "# Hàm kiểm tra chuoi trong cot so_do\n",
    "def check_string(string, info):\n",
    "    for word in info:\n",
    "        if word in info:\n",
    "            return True\n",
    "    return False"
   ]
  },
  {
   "cell_type": "code",
   "execution_count": 47,
   "metadata": {},
   "outputs": [
    {
     "name": "stderr",
     "output_type": "stream",
     "text": [
      "C:\\Users\\ADMIN\\AppData\\Local\\Temp\\ipykernel_4308\\2824898913.py:2: SettingWithCopyWarning: \n",
      "A value is trying to be set on a copy of a slice from a DataFrame\n",
      "\n",
      "See the caveats in the documentation: https://pandas.pydata.org/pandas-docs/stable/user_guide/indexing.html#returning-a-view-versus-a-copy\n",
      "  feature_data['so_do'].fillna(\"KXĐ\", inplace = True)\n"
     ]
    },
    {
     "data": {
      "text/plain": [
       "array(['Có sổ'], dtype=object)"
      ]
     },
     "execution_count": 47,
     "metadata": {},
     "output_type": "execute_result"
    }
   ],
   "source": [
    "# Gán các giá trị 'chua so', 'co so', 'KXĐ' vào cột so_do\n",
    "feature_data['so_do'].fillna(\"KXĐ\", inplace = True)\n",
    "for id, row in feature_data.iterrows():\n",
    "    feature_data.at[id, 'so_do'] = row['so_do'].lower()\n",
    "    tmp_info = \"\"\n",
    "    if check_string(row['so_do'],'chua')| check_string(row['so_do'],'ban giao') | check_string(row['so_do'],'cho lam'):\n",
    "        tmp_info = tmp_info + \"Chưa sổ\"\n",
    "    if check_string(row['so_do'],'co so') | check_string(row['so_do'],'chinh_chu') | check_string(row['so_do'],'day du') |check_string(row['so_do'],'so do'):\n",
    "        tmp_info = \"Có sổ\"\n",
    "    else:    tmp_info = \"KXĐ\"\n",
    "    feature_data.at[id, 'so_do'] = tmp_info\n",
    "\n",
    "feature_data['so_do'].unique()"
   ]
  },
  {
   "cell_type": "code",
   "execution_count": 48,
   "metadata": {},
   "outputs": [
    {
     "name": "stdout",
     "output_type": "stream",
     "text": [
      "<class 'pandas.core.frame.DataFrame'>\n",
      "Int64Index: 4789 entries, 1 to 4969\n",
      "Data columns (total 6 columns):\n",
      " #   Column         Non-Null Count  Dtype  \n",
      "---  ------         --------------  -----  \n",
      " 0   dien_tich      4789 non-null   float64\n",
      " 1   mat_tien       4788 non-null   float64\n",
      " 2   gia_m2         4789 non-null   float64\n",
      " 3   so_do          4789 non-null   object \n",
      " 4   do_rong_duong  4619 non-null   float64\n",
      " 5   ten_duong      4658 non-null   object \n",
      "dtypes: float64(4), object(2)\n",
      "memory usage: 390.9+ KB\n"
     ]
    }
   ],
   "source": [
    "#Thông tin dữ liệu sau khi điền dữ liệu cho cột \"So_do\"\n",
    "feature_data.info()"
   ]
  },
  {
   "cell_type": "code",
   "execution_count": 49,
   "metadata": {},
   "outputs": [
    {
     "name": "stdout",
     "output_type": "stream",
     "text": [
      "<class 'pandas.core.frame.DataFrame'>\n",
      "RangeIndex: 4619 entries, 0 to 4618\n",
      "Data columns (total 6 columns):\n",
      " #   Column         Non-Null Count  Dtype  \n",
      "---  ------         --------------  -----  \n",
      " 0   dien_tich      4619 non-null   float64\n",
      " 1   mat_tien       4619 non-null   float64\n",
      " 2   gia_m2         4619 non-null   float64\n",
      " 3   so_do          4619 non-null   object \n",
      " 4   do_rong_duong  4619 non-null   float64\n",
      " 5   ten_duong      4619 non-null   object \n",
      "dtypes: float64(4), object(2)\n",
      "memory usage: 216.6+ KB\n",
      "--------------------------\n",
      "Số lượng % bản ghi còn lại:\n"
     ]
    },
    {
     "data": {
      "text/plain": [
       "92.95632924129603"
      ]
     },
     "execution_count": 49,
     "metadata": {},
     "output_type": "execute_result"
    }
   ],
   "source": [
    "#Xóa lần nữa các dòng còn dữ liệu khuyết thiếu\n",
    "feature_data1 = feature_data.dropna()\n",
    "feature_data1 = feature_data1.reset_index(drop=True)\n",
    "\n",
    "feature_data1.info()\n",
    "\n",
    "# % số lượng bản ghi còn lại\n",
    "print(\"--------------------------\")\n",
    "print(\"Số lượng % bản ghi còn lại:\")\n",
    "100 * feature_data1.shape[0]/data_target.shape[0]"
   ]
  },
  {
   "attachments": {},
   "cell_type": "markdown",
   "metadata": {},
   "source": [
    "### Xóa dữ liệu ngoại lai bằng IQR score"
   ]
  },
  {
   "cell_type": "code",
   "execution_count": 50,
   "metadata": {},
   "outputs": [
    {
     "name": "stdout",
     "output_type": "stream",
     "text": [
      "14000.0 0.0\n",
      "-37.5 198.5\n",
      "(4226, 6)\n"
     ]
    }
   ],
   "source": [
    "#Loại bỏ ngoại lai dien_tich\n",
    "area_data = feature_data1['dien_tich'].values\n",
    "\n",
    "q1 = np.percentile(area_data, 25)\n",
    "q3 = np.percentile(area_data, 75)\n",
    "\n",
    "print(area_data.max(), area_data.min())\n",
    "iqr = q3 - q1\n",
    "\n",
    "lower_bound = q1 - 1.5 * iqr\n",
    "upper_bound = q3 + 1.5 * iqr\n",
    "print(lower_bound, upper_bound)\n",
    "\n",
    "outlier_area_data = feature_data1[(feature_data1['dien_tich'] >= lower_bound) & (feature_data1['dien_tich'] <= upper_bound)]\n",
    "print(outlier_area_data.shape)\n"
   ]
  },
  {
   "cell_type": "code",
   "execution_count": 51,
   "metadata": {},
   "outputs": [
    {
     "name": "stdout",
     "output_type": "stream",
     "text": [
      "inf 0.000199999999999\n",
      "-131.9616977225673 780.1293995859213\n",
      "(4542, 6)\n"
     ]
    }
   ],
   "source": [
    "#Loại bỏ ngoại lai gia_m2\n",
    "priem2_data = feature_data1['gia_m2'].values\n",
    "\n",
    "q1 = np.percentile(priem2_data, 25)\n",
    "q3 = np.percentile(priem2_data, 75)\n",
    "\n",
    "print(priem2_data.max(), priem2_data.min())\n",
    "iqr = q3 - q1\n",
    "\n",
    "lower_bound = q1 - 1.5 * iqr\n",
    "upper_bound = q3 + 1.5 * iqr\n",
    "print(lower_bound, upper_bound)\n",
    "\n",
    "outlier_pricem2_data = feature_data1[(feature_data1['gia_m2'] >= lower_bound) & (feature_data1['gia_m2'] <= upper_bound)]\n",
    "\n",
    "print(outlier_pricem2_data.shape)"
   ]
  },
  {
   "cell_type": "code",
   "execution_count": 52,
   "metadata": {},
   "outputs": [
    {
     "name": "stdout",
     "output_type": "stream",
     "text": [
      "999.0 2.0\n",
      "0.22279143897996345 12.666325136612022\n",
      "(4308, 6)\n"
     ]
    }
   ],
   "source": [
    "#Loại bỏ ngoại lai mat_tien\n",
    "surface_data = feature_data1['mat_tien'].values\n",
    "\n",
    "q1 = np.percentile(surface_data, 25)\n",
    "q3 = np.percentile(surface_data, 75)\n",
    "\n",
    "print(surface_data.max(), surface_data.min())\n",
    "iqr = q3 - q1\n",
    "\n",
    "lower_bound = q1 - 1.5 * iqr\n",
    "upper_bound = q3 + 1.5 * iqr\n",
    "print(lower_bound, upper_bound)\n",
    "\n",
    "outlier_surface_data = feature_data1[(feature_data1['mat_tien'] >= lower_bound) & (feature_data1['mat_tien'] <= upper_bound)]\n",
    "\n",
    "print(outlier_surface_data.shape)"
   ]
  },
  {
   "cell_type": "code",
   "execution_count": 53,
   "metadata": {},
   "outputs": [
    {
     "name": "stdout",
     "output_type": "stream",
     "text": [
      "200.0 1.0\n",
      "-2.723837209302326 38.8343023255814\n",
      "(4441, 6)\n"
     ]
    }
   ],
   "source": [
    "#Loại bỏ ngoại lai do_rong_duong\n",
    "road_width_data = feature_data1['do_rong_duong'].values\n",
    "\n",
    "q1 = np.percentile(road_width_data, 25)\n",
    "q3 = np.percentile(road_width_data, 75)\n",
    "\n",
    "print(road_width_data.max(), road_width_data.min())\n",
    "iqr = q3 - q1\n",
    "\n",
    "lower_bound = q1 - 1.5 * iqr\n",
    "upper_bound = q3 + 1.5 * iqr\n",
    "print(lower_bound, upper_bound)\n",
    "\n",
    "outlier_road_width_data = feature_data1[(feature_data1['do_rong_duong'] >= lower_bound) & (feature_data1['do_rong_duong'] <= upper_bound)]\n",
    "\n",
    "print(outlier_road_width_data.shape)"
   ]
  },
  {
   "cell_type": "code",
   "execution_count": 54,
   "metadata": {},
   "outputs": [
    {
     "name": "stdout",
     "output_type": "stream",
     "text": [
      "Merge 4 df removed outlier\n",
      "(3592, 6)\n",
      "--------------------------\n",
      "Số lượng % bản ghi còn lại:\n"
     ]
    },
    {
     "data": {
      "text/plain": [
       "72.28818675789897"
      ]
     },
     "execution_count": 54,
     "metadata": {},
     "output_type": "execute_result"
    }
   ],
   "source": [
    "# merge 4 DataFrame\n",
    "merged_df = pd.merge(outlier_area_data, outlier_pricem2_data, how='inner')\n",
    "merged_df = pd.merge(merged_df, outlier_surface_data, how='inner')\n",
    "merged_df = pd.merge(merged_df,outlier_road_width_data, how='inner')\n",
    "\n",
    "# giữ lại một bản ghi nếu trùng nhau\n",
    "merged_df = merged_df.drop_duplicates()\n",
    "\n",
    "print(\"Merge 4 df removed outlier\")\n",
    "print(merged_df.shape)\n",
    "\n",
    "# % số lượng bản ghi còn lại\n",
    "print(\"--------------------------\")\n",
    "print(\"Số lượng % bản ghi còn lại:\")\n",
    "100 * merged_df.shape[0]/data_target.shape[0]"
   ]
  },
  {
   "attachments": {},
   "cell_type": "markdown",
   "metadata": {},
   "source": [
    "## STEP 2: DATA TRANSFORMATION"
   ]
  },
  {
   "attachments": {},
   "cell_type": "markdown",
   "metadata": {},
   "source": [
    "### Min-Max scaling \n",
    "### RobustScaler scaling"
   ]
  },
  {
   "cell_type": "code",
   "execution_count": 117,
   "metadata": {},
   "outputs": [],
   "source": [
    "# Chuẩn hóa dữ liệu dien_tich với minmax scaling\n",
    "scaler = MinMaxScaler()\n",
    "\n",
    "merged_df[['dien_tich_s']] = scaler.fit_transform(merged_df[['dien_tich']])\n",
    "\n",
    "merged_df[['gia_m2_s']] = scaler.fit_transform(merged_df[['gia_m2']])\n",
    "\n",
    "merged_df[['do_rong_duong_s']] = scaler.fit_transform(merged_df[['do_rong_duong']])"
   ]
  },
  {
   "cell_type": "code",
   "execution_count": 60,
   "metadata": {},
   "outputs": [
    {
     "data": {
      "text/html": [
       "<div>\n",
       "<style scoped>\n",
       "    .dataframe tbody tr th:only-of-type {\n",
       "        vertical-align: middle;\n",
       "    }\n",
       "\n",
       "    .dataframe tbody tr th {\n",
       "        vertical-align: top;\n",
       "    }\n",
       "\n",
       "    .dataframe thead th {\n",
       "        text-align: right;\n",
       "    }\n",
       "</style>\n",
       "<table border=\"1\" class=\"dataframe\">\n",
       "  <thead>\n",
       "    <tr style=\"text-align: right;\">\n",
       "      <th></th>\n",
       "      <th>mat_tien_s</th>\n",
       "    </tr>\n",
       "  </thead>\n",
       "  <tbody>\n",
       "    <tr>\n",
       "      <th>count</th>\n",
       "      <td>3592.000000</td>\n",
       "    </tr>\n",
       "    <tr>\n",
       "      <th>mean</th>\n",
       "      <td>0.175099</td>\n",
       "    </tr>\n",
       "    <tr>\n",
       "      <th>std</th>\n",
       "      <td>0.721454</td>\n",
       "    </tr>\n",
       "    <tr>\n",
       "      <th>min</th>\n",
       "      <td>-1.421782</td>\n",
       "    </tr>\n",
       "    <tr>\n",
       "      <th>25%</th>\n",
       "      <td>-0.363217</td>\n",
       "    </tr>\n",
       "    <tr>\n",
       "      <th>50%</th>\n",
       "      <td>0.000000</td>\n",
       "    </tr>\n",
       "    <tr>\n",
       "      <th>75%</th>\n",
       "      <td>0.636783</td>\n",
       "    </tr>\n",
       "    <tr>\n",
       "      <th>max</th>\n",
       "      <td>2.670644</td>\n",
       "    </tr>\n",
       "  </tbody>\n",
       "</table>\n",
       "</div>"
      ],
      "text/plain": [
       "        mat_tien_s\n",
       "count  3592.000000\n",
       "mean      0.175099\n",
       "std       0.721454\n",
       "min      -1.421782\n",
       "25%      -0.363217\n",
       "50%       0.000000\n",
       "75%       0.636783\n",
       "max       2.670644"
      ]
     },
     "execution_count": 60,
     "metadata": {},
     "output_type": "execute_result"
    }
   ],
   "source": [
    "# Chuẩn hóa dữ liệu mat_tien với robust scaling\n",
    "scaler = RobustScaler()\n",
    "\n",
    "merged_df[['mat_tien_s']] = scaler.fit_transform(merged_df[['mat_tien']])\n",
    "\n",
    "# mô tả dữ liệu sau chuẩn hóa\n",
    "pd.DataFrame(merged_df[['mat_tien_s']]).describe()"
   ]
  },
  {
   "cell_type": "code",
   "execution_count": 121,
   "metadata": {},
   "outputs": [
    {
     "data": {
      "text/html": [
       "<div>\n",
       "<style scoped>\n",
       "    .dataframe tbody tr th:only-of-type {\n",
       "        vertical-align: middle;\n",
       "    }\n",
       "\n",
       "    .dataframe tbody tr th {\n",
       "        vertical-align: top;\n",
       "    }\n",
       "\n",
       "    .dataframe thead th {\n",
       "        text-align: right;\n",
       "    }\n",
       "</style>\n",
       "<table border=\"1\" class=\"dataframe\">\n",
       "  <thead>\n",
       "    <tr style=\"text-align: right;\">\n",
       "      <th></th>\n",
       "      <th>dien_tich</th>\n",
       "      <th>mat_tien</th>\n",
       "      <th>gia_m2</th>\n",
       "      <th>so_do</th>\n",
       "      <th>do_rong_duong</th>\n",
       "      <th>ten_duong</th>\n",
       "      <th>dien_tich_s</th>\n",
       "      <th>gia_m2_s</th>\n",
       "      <th>mat_tien_s</th>\n",
       "      <th>do_rong_duong_s</th>\n",
       "      <th>ten_duong_encoded</th>\n",
       "      <th>gia_nha_predicted</th>\n",
       "      <th>so_do_encoded</th>\n",
       "    </tr>\n",
       "  </thead>\n",
       "  <tbody>\n",
       "    <tr>\n",
       "      <th>0</th>\n",
       "      <td>69.0</td>\n",
       "      <td>8.300</td>\n",
       "      <td>304.347826</td>\n",
       "      <td>Có sổ</td>\n",
       "      <td>14.913043</td>\n",
       "      <td>Đường Nguyễn Công Hoan</td>\n",
       "      <td>0.313830</td>\n",
       "      <td>0.392707</td>\n",
       "      <td>0.999090</td>\n",
       "      <td>0.376028</td>\n",
       "      <td>53</td>\n",
       "      <td>0.390500</td>\n",
       "      <td>0</td>\n",
       "    </tr>\n",
       "    <tr>\n",
       "      <th>1</th>\n",
       "      <td>50.0</td>\n",
       "      <td>7.150</td>\n",
       "      <td>500.000000</td>\n",
       "      <td>Có sổ</td>\n",
       "      <td>20.200000</td>\n",
       "      <td>Đường Trần Phú</td>\n",
       "      <td>0.212766</td>\n",
       "      <td>0.645161</td>\n",
       "      <td>0.557185</td>\n",
       "      <td>0.518919</td>\n",
       "      <td>74</td>\n",
       "      <td>0.418456</td>\n",
       "      <td>0</td>\n",
       "    </tr>\n",
       "    <tr>\n",
       "      <th>2</th>\n",
       "      <td>50.0</td>\n",
       "      <td>5.000</td>\n",
       "      <td>320.000000</td>\n",
       "      <td>Có sổ</td>\n",
       "      <td>4.000000</td>\n",
       "      <td>Đường Hồng Hà</td>\n",
       "      <td>0.212766</td>\n",
       "      <td>0.412903</td>\n",
       "      <td>-0.268986</td>\n",
       "      <td>0.081081</td>\n",
       "      <td>45</td>\n",
       "      <td>0.258233</td>\n",
       "      <td>0</td>\n",
       "    </tr>\n",
       "    <tr>\n",
       "      <th>3</th>\n",
       "      <td>50.0</td>\n",
       "      <td>5.000</td>\n",
       "      <td>320.000000</td>\n",
       "      <td>Có sổ</td>\n",
       "      <td>4.000000</td>\n",
       "      <td>Đường Lê Hồng Phong</td>\n",
       "      <td>0.212766</td>\n",
       "      <td>0.412903</td>\n",
       "      <td>-0.268986</td>\n",
       "      <td>0.081081</td>\n",
       "      <td>47</td>\n",
       "      <td>0.257812</td>\n",
       "      <td>0</td>\n",
       "    </tr>\n",
       "    <tr>\n",
       "      <th>259</th>\n",
       "      <td>90.0</td>\n",
       "      <td>9.375</td>\n",
       "      <td>333.333333</td>\n",
       "      <td>Có sổ</td>\n",
       "      <td>30.000000</td>\n",
       "      <td>Phố Liễu Giai</td>\n",
       "      <td>0.425532</td>\n",
       "      <td>0.430107</td>\n",
       "      <td>1.412175</td>\n",
       "      <td>0.783784</td>\n",
       "      <td>19</td>\n",
       "      <td>0.556051</td>\n",
       "      <td>0</td>\n",
       "    </tr>\n",
       "    <tr>\n",
       "      <th>...</th>\n",
       "      <td>...</td>\n",
       "      <td>...</td>\n",
       "      <td>...</td>\n",
       "      <td>...</td>\n",
       "      <td>...</td>\n",
       "      <td>...</td>\n",
       "      <td>...</td>\n",
       "      <td>...</td>\n",
       "      <td>...</td>\n",
       "      <td>...</td>\n",
       "      <td>...</td>\n",
       "      <td>...</td>\n",
       "      <td>...</td>\n",
       "    </tr>\n",
       "    <tr>\n",
       "      <th>247027</th>\n",
       "      <td>50.0</td>\n",
       "      <td>6.500</td>\n",
       "      <td>460.000000</td>\n",
       "      <td>Có sổ</td>\n",
       "      <td>15.323077</td>\n",
       "      <td>Đường Cửa Bắc</td>\n",
       "      <td>0.212766</td>\n",
       "      <td>0.593548</td>\n",
       "      <td>0.307412</td>\n",
       "      <td>0.387110</td>\n",
       "      <td>41</td>\n",
       "      <td>0.375304</td>\n",
       "      <td>0</td>\n",
       "    </tr>\n",
       "    <tr>\n",
       "      <th>247028</th>\n",
       "      <td>60.0</td>\n",
       "      <td>6.000</td>\n",
       "      <td>120.000000</td>\n",
       "      <td>Có sổ</td>\n",
       "      <td>4.000000</td>\n",
       "      <td>Đường Đào Tấn</td>\n",
       "      <td>0.265957</td>\n",
       "      <td>0.154838</td>\n",
       "      <td>0.115280</td>\n",
       "      <td>0.081081</td>\n",
       "      <td>82</td>\n",
       "      <td>0.262163</td>\n",
       "      <td>0</td>\n",
       "    </tr>\n",
       "    <tr>\n",
       "      <th>247029</th>\n",
       "      <td>69.0</td>\n",
       "      <td>5.000</td>\n",
       "      <td>359.420290</td>\n",
       "      <td>Có sổ</td>\n",
       "      <td>6.000000</td>\n",
       "      <td>Phố Trấn Vũ</td>\n",
       "      <td>0.313830</td>\n",
       "      <td>0.463768</td>\n",
       "      <td>-0.268986</td>\n",
       "      <td>0.135135</td>\n",
       "      <td>31</td>\n",
       "      <td>0.288879</td>\n",
       "      <td>0</td>\n",
       "    </tr>\n",
       "    <tr>\n",
       "      <th>247030</th>\n",
       "      <td>85.0</td>\n",
       "      <td>4.500</td>\n",
       "      <td>185.882353</td>\n",
       "      <td>Có sổ</td>\n",
       "      <td>12.000000</td>\n",
       "      <td>Đường Hoàng Hoa Thám</td>\n",
       "      <td>0.398936</td>\n",
       "      <td>0.239848</td>\n",
       "      <td>-0.461118</td>\n",
       "      <td>0.297297</td>\n",
       "      <td>43</td>\n",
       "      <td>0.346526</td>\n",
       "      <td>0</td>\n",
       "    </tr>\n",
       "    <tr>\n",
       "      <th>247031</th>\n",
       "      <td>100.0</td>\n",
       "      <td>4.800</td>\n",
       "      <td>158.000000</td>\n",
       "      <td>Có sổ</td>\n",
       "      <td>20.000000</td>\n",
       "      <td>Hoàng Hoa Thám</td>\n",
       "      <td>0.478723</td>\n",
       "      <td>0.203871</td>\n",
       "      <td>-0.345839</td>\n",
       "      <td>0.513514</td>\n",
       "      <td>1</td>\n",
       "      <td>0.439304</td>\n",
       "      <td>0</td>\n",
       "    </tr>\n",
       "  </tbody>\n",
       "</table>\n",
       "<p>3592 rows × 13 columns</p>\n",
       "</div>"
      ],
      "text/plain": [
       "        dien_tich  mat_tien      gia_m2  so_do  do_rong_duong  \\\n",
       "0            69.0     8.300  304.347826  Có sổ      14.913043   \n",
       "1            50.0     7.150  500.000000  Có sổ      20.200000   \n",
       "2            50.0     5.000  320.000000  Có sổ       4.000000   \n",
       "3            50.0     5.000  320.000000  Có sổ       4.000000   \n",
       "259          90.0     9.375  333.333333  Có sổ      30.000000   \n",
       "...           ...       ...         ...    ...            ...   \n",
       "247027       50.0     6.500  460.000000  Có sổ      15.323077   \n",
       "247028       60.0     6.000  120.000000  Có sổ       4.000000   \n",
       "247029       69.0     5.000  359.420290  Có sổ       6.000000   \n",
       "247030       85.0     4.500  185.882353  Có sổ      12.000000   \n",
       "247031      100.0     4.800  158.000000  Có sổ      20.000000   \n",
       "\n",
       "                     ten_duong  dien_tich_s  gia_m2_s  mat_tien_s  \\\n",
       "0       Đường Nguyễn Công Hoan     0.313830  0.392707    0.999090   \n",
       "1               Đường Trần Phú     0.212766  0.645161    0.557185   \n",
       "2                Đường Hồng Hà     0.212766  0.412903   -0.268986   \n",
       "3          Đường Lê Hồng Phong     0.212766  0.412903   -0.268986   \n",
       "259              Phố Liễu Giai     0.425532  0.430107    1.412175   \n",
       "...                        ...          ...       ...         ...   \n",
       "247027           Đường Cửa Bắc     0.212766  0.593548    0.307412   \n",
       "247028           Đường Đào Tấn     0.265957  0.154838    0.115280   \n",
       "247029             Phố Trấn Vũ     0.313830  0.463768   -0.268986   \n",
       "247030    Đường Hoàng Hoa Thám     0.398936  0.239848   -0.461118   \n",
       "247031          Hoàng Hoa Thám     0.478723  0.203871   -0.345839   \n",
       "\n",
       "        do_rong_duong_s  ten_duong_encoded  gia_nha_predicted  so_do_encoded  \n",
       "0              0.376028                 53           0.390500              0  \n",
       "1              0.518919                 74           0.418456              0  \n",
       "2              0.081081                 45           0.258233              0  \n",
       "3              0.081081                 47           0.257812              0  \n",
       "259            0.783784                 19           0.556051              0  \n",
       "...                 ...                ...                ...            ...  \n",
       "247027         0.387110                 41           0.375304              0  \n",
       "247028         0.081081                 82           0.262163              0  \n",
       "247029         0.135135                 31           0.288879              0  \n",
       "247030         0.297297                 43           0.346526              0  \n",
       "247031         0.513514                  1           0.439304              0  \n",
       "\n",
       "[3592 rows x 13 columns]"
      ]
     },
     "execution_count": 121,
     "metadata": {},
     "output_type": "execute_result"
    }
   ],
   "source": [
    "# mã hóa cột so_do với Label encoder \n",
    "merged_df['so_do_encoded'] = merged_df['so_do'].astype('category').cat.codes\n",
    "merged_df\n"
   ]
  },
  {
   "cell_type": "code",
   "execution_count": 122,
   "metadata": {},
   "outputs": [
    {
     "data": {
      "text/plain": [
       "array(['Đường Nguyễn Công Hoan', 'Đường Trần Phú', 'Đường Hồng Hà',\n",
       "       'Đường Lê Hồng Phong', 'Phố Liễu Giai', 'Đường Đội Cấn',\n",
       "       'Đường Hoàng Hoa Thám', 'Phố Đốc Ngữ', 'Đường Lạc Chính',\n",
       "       'Phố Phạm Huy Thông', 'Phố Linh Lang', 'Đường Giang Văn Minh',\n",
       "       'Phố Sơn Tây', 'Đường Đào Tấn', 'Đường Văn Cao', 'Đường Bưởi',\n",
       "       'Phố An Xá', 'Đường Ngọc Hà', 'Phố Kim Mã', 'Đường Trúc Bạch',\n",
       "       'Phố Láng Hạ', 'Đường Cầu Giấy', 'Đường Phan Kế Bính',\n",
       "       'Đường Đội Nhân', 'Đường Quán Thánh', 'Đường Phúc Xá',\n",
       "       'Đường Nguyễn Chí Thanh', 'Phố Trấn Vũ', 'Phố Giảng Võ',\n",
       "       'Phố Kim Mã Thượng', 'Đường Núi Trúc', 'Đường Nguyễn Trung Trực',\n",
       "       'Phố Châu Long', 'Phố Nghĩa Dũng', 'Đường Trần Tế Xương',\n",
       "       'Đường Điện Biên Phủ', 'Đường Nguyễn Biểu', 'Đường Vạn Bảo',\n",
       "       'Đường Vĩnh Phúc', 'Đường Đê La Thành', 'Đường Thụy Khuê',\n",
       "       'Phố Ngũ Xã', 'Đường Cửa Bắc', 'Đường Nguyễn Huy Thông',\n",
       "       'Phố Hàng Bún', 'Đường Quần Ngựa', 'Phố Nam Cao', 'Đường Lê Trực',\n",
       "       'Phố Nguyễn Khắc Nhu', 'Đường Bắc Sơn', 'Đường Trần Huy Liệu',\n",
       "       'Đường Phạm Hồng Thái', 'Nguyễn Công Hoan', 'Phố Mai Anh Tuấn',\n",
       "       'Đường Hàng Than', 'Phố Ngọc Khánh', 'Linh Lang', 'Phố Đại Yên',\n",
       "       'Phố Vạn Phúc', 'Đường Nguyễn Thái Học', 'Đường Nguyễn Trường Tộ',\n",
       "       'Đường Nguyên Hồng', 'Phố Hòe Nhai', 'Đội Cấn', 'Đường Thành Công',\n",
       "       'Phan Đình Phùng', 'Ngọc Hà', 'Phố Nguyễn Văn Ngọc',\n",
       "       'Đường Phan Đình Phùng', 'Đường Nguyễn Khắc Hiếu',\n",
       "       'Đường Phan Huy Ích', 'Đường Cao Bá Quát', 'Phố Phó Đức Chính',\n",
       "       'Đường Độc Lập', 'Đường Tân Ấp', 'Phố Hồng Phúc',\n",
       "       'Đường Nguyễn Thiệp', 'Phan Kế Bính', 'Lê Hồng Phong', 'Đốc Ngữ',\n",
       "       'Đào Tấn', 'Nguyễn Thái Học', 'Đường La Thành', 'Giảng Võ',\n",
       "       'Phố Đặng Dung', 'Đường Nguyễn Cảnh Chân', 'Đường Yên Ninh',\n",
       "       'Phố Cửa Nam', 'Hoàng Hoa Thám'], dtype=object)"
      ]
     },
     "execution_count": 122,
     "metadata": {},
     "output_type": "execute_result"
    }
   ],
   "source": [
    "# các giá trị ở cột ten_duong\n",
    "merged_df['ten_duong'].unique()"
   ]
  },
  {
   "cell_type": "code",
   "execution_count": 123,
   "metadata": {},
   "outputs": [
    {
     "data": {
      "text/html": [
       "<div>\n",
       "<style scoped>\n",
       "    .dataframe tbody tr th:only-of-type {\n",
       "        vertical-align: middle;\n",
       "    }\n",
       "\n",
       "    .dataframe tbody tr th {\n",
       "        vertical-align: top;\n",
       "    }\n",
       "\n",
       "    .dataframe thead th {\n",
       "        text-align: right;\n",
       "    }\n",
       "</style>\n",
       "<table border=\"1\" class=\"dataframe\">\n",
       "  <thead>\n",
       "    <tr style=\"text-align: right;\">\n",
       "      <th></th>\n",
       "      <th>dien_tich</th>\n",
       "      <th>mat_tien</th>\n",
       "      <th>gia_m2</th>\n",
       "      <th>so_do</th>\n",
       "      <th>do_rong_duong</th>\n",
       "      <th>ten_duong</th>\n",
       "      <th>dien_tich_s</th>\n",
       "      <th>gia_m2_s</th>\n",
       "      <th>mat_tien_s</th>\n",
       "      <th>do_rong_duong_s</th>\n",
       "      <th>ten_duong_encoded</th>\n",
       "      <th>gia_nha_predicted</th>\n",
       "      <th>so_do_encoded</th>\n",
       "    </tr>\n",
       "  </thead>\n",
       "  <tbody>\n",
       "    <tr>\n",
       "      <th>0</th>\n",
       "      <td>69.0</td>\n",
       "      <td>8.300</td>\n",
       "      <td>304.347826</td>\n",
       "      <td>Có sổ</td>\n",
       "      <td>14.913043</td>\n",
       "      <td>Đường Nguyễn Công Hoan</td>\n",
       "      <td>0.313830</td>\n",
       "      <td>0.392707</td>\n",
       "      <td>0.999090</td>\n",
       "      <td>0.376028</td>\n",
       "      <td>53</td>\n",
       "      <td>0.390500</td>\n",
       "      <td>0</td>\n",
       "    </tr>\n",
       "    <tr>\n",
       "      <th>1</th>\n",
       "      <td>50.0</td>\n",
       "      <td>7.150</td>\n",
       "      <td>500.000000</td>\n",
       "      <td>Có sổ</td>\n",
       "      <td>20.200000</td>\n",
       "      <td>Đường Trần Phú</td>\n",
       "      <td>0.212766</td>\n",
       "      <td>0.645161</td>\n",
       "      <td>0.557185</td>\n",
       "      <td>0.518919</td>\n",
       "      <td>74</td>\n",
       "      <td>0.418456</td>\n",
       "      <td>0</td>\n",
       "    </tr>\n",
       "    <tr>\n",
       "      <th>2</th>\n",
       "      <td>50.0</td>\n",
       "      <td>5.000</td>\n",
       "      <td>320.000000</td>\n",
       "      <td>Có sổ</td>\n",
       "      <td>4.000000</td>\n",
       "      <td>Đường Hồng Hà</td>\n",
       "      <td>0.212766</td>\n",
       "      <td>0.412903</td>\n",
       "      <td>-0.268986</td>\n",
       "      <td>0.081081</td>\n",
       "      <td>45</td>\n",
       "      <td>0.258233</td>\n",
       "      <td>0</td>\n",
       "    </tr>\n",
       "    <tr>\n",
       "      <th>3</th>\n",
       "      <td>50.0</td>\n",
       "      <td>5.000</td>\n",
       "      <td>320.000000</td>\n",
       "      <td>Có sổ</td>\n",
       "      <td>4.000000</td>\n",
       "      <td>Đường Lê Hồng Phong</td>\n",
       "      <td>0.212766</td>\n",
       "      <td>0.412903</td>\n",
       "      <td>-0.268986</td>\n",
       "      <td>0.081081</td>\n",
       "      <td>47</td>\n",
       "      <td>0.257812</td>\n",
       "      <td>0</td>\n",
       "    </tr>\n",
       "    <tr>\n",
       "      <th>259</th>\n",
       "      <td>90.0</td>\n",
       "      <td>9.375</td>\n",
       "      <td>333.333333</td>\n",
       "      <td>Có sổ</td>\n",
       "      <td>30.000000</td>\n",
       "      <td>Phố Liễu Giai</td>\n",
       "      <td>0.425532</td>\n",
       "      <td>0.430107</td>\n",
       "      <td>1.412175</td>\n",
       "      <td>0.783784</td>\n",
       "      <td>19</td>\n",
       "      <td>0.556051</td>\n",
       "      <td>0</td>\n",
       "    </tr>\n",
       "    <tr>\n",
       "      <th>...</th>\n",
       "      <td>...</td>\n",
       "      <td>...</td>\n",
       "      <td>...</td>\n",
       "      <td>...</td>\n",
       "      <td>...</td>\n",
       "      <td>...</td>\n",
       "      <td>...</td>\n",
       "      <td>...</td>\n",
       "      <td>...</td>\n",
       "      <td>...</td>\n",
       "      <td>...</td>\n",
       "      <td>...</td>\n",
       "      <td>...</td>\n",
       "    </tr>\n",
       "    <tr>\n",
       "      <th>247027</th>\n",
       "      <td>50.0</td>\n",
       "      <td>6.500</td>\n",
       "      <td>460.000000</td>\n",
       "      <td>Có sổ</td>\n",
       "      <td>15.323077</td>\n",
       "      <td>Đường Cửa Bắc</td>\n",
       "      <td>0.212766</td>\n",
       "      <td>0.593548</td>\n",
       "      <td>0.307412</td>\n",
       "      <td>0.387110</td>\n",
       "      <td>41</td>\n",
       "      <td>0.375304</td>\n",
       "      <td>0</td>\n",
       "    </tr>\n",
       "    <tr>\n",
       "      <th>247028</th>\n",
       "      <td>60.0</td>\n",
       "      <td>6.000</td>\n",
       "      <td>120.000000</td>\n",
       "      <td>Có sổ</td>\n",
       "      <td>4.000000</td>\n",
       "      <td>Đường Đào Tấn</td>\n",
       "      <td>0.265957</td>\n",
       "      <td>0.154838</td>\n",
       "      <td>0.115280</td>\n",
       "      <td>0.081081</td>\n",
       "      <td>82</td>\n",
       "      <td>0.262163</td>\n",
       "      <td>0</td>\n",
       "    </tr>\n",
       "    <tr>\n",
       "      <th>247029</th>\n",
       "      <td>69.0</td>\n",
       "      <td>5.000</td>\n",
       "      <td>359.420290</td>\n",
       "      <td>Có sổ</td>\n",
       "      <td>6.000000</td>\n",
       "      <td>Phố Trấn Vũ</td>\n",
       "      <td>0.313830</td>\n",
       "      <td>0.463768</td>\n",
       "      <td>-0.268986</td>\n",
       "      <td>0.135135</td>\n",
       "      <td>31</td>\n",
       "      <td>0.288879</td>\n",
       "      <td>0</td>\n",
       "    </tr>\n",
       "    <tr>\n",
       "      <th>247030</th>\n",
       "      <td>85.0</td>\n",
       "      <td>4.500</td>\n",
       "      <td>185.882353</td>\n",
       "      <td>Có sổ</td>\n",
       "      <td>12.000000</td>\n",
       "      <td>Đường Hoàng Hoa Thám</td>\n",
       "      <td>0.398936</td>\n",
       "      <td>0.239848</td>\n",
       "      <td>-0.461118</td>\n",
       "      <td>0.297297</td>\n",
       "      <td>43</td>\n",
       "      <td>0.346526</td>\n",
       "      <td>0</td>\n",
       "    </tr>\n",
       "    <tr>\n",
       "      <th>247031</th>\n",
       "      <td>100.0</td>\n",
       "      <td>4.800</td>\n",
       "      <td>158.000000</td>\n",
       "      <td>Có sổ</td>\n",
       "      <td>20.000000</td>\n",
       "      <td>Hoàng Hoa Thám</td>\n",
       "      <td>0.478723</td>\n",
       "      <td>0.203871</td>\n",
       "      <td>-0.345839</td>\n",
       "      <td>0.513514</td>\n",
       "      <td>1</td>\n",
       "      <td>0.439304</td>\n",
       "      <td>0</td>\n",
       "    </tr>\n",
       "  </tbody>\n",
       "</table>\n",
       "<p>3592 rows × 13 columns</p>\n",
       "</div>"
      ],
      "text/plain": [
       "        dien_tich  mat_tien      gia_m2  so_do  do_rong_duong  \\\n",
       "0            69.0     8.300  304.347826  Có sổ      14.913043   \n",
       "1            50.0     7.150  500.000000  Có sổ      20.200000   \n",
       "2            50.0     5.000  320.000000  Có sổ       4.000000   \n",
       "3            50.0     5.000  320.000000  Có sổ       4.000000   \n",
       "259          90.0     9.375  333.333333  Có sổ      30.000000   \n",
       "...           ...       ...         ...    ...            ...   \n",
       "247027       50.0     6.500  460.000000  Có sổ      15.323077   \n",
       "247028       60.0     6.000  120.000000  Có sổ       4.000000   \n",
       "247029       69.0     5.000  359.420290  Có sổ       6.000000   \n",
       "247030       85.0     4.500  185.882353  Có sổ      12.000000   \n",
       "247031      100.0     4.800  158.000000  Có sổ      20.000000   \n",
       "\n",
       "                     ten_duong  dien_tich_s  gia_m2_s  mat_tien_s  \\\n",
       "0       Đường Nguyễn Công Hoan     0.313830  0.392707    0.999090   \n",
       "1               Đường Trần Phú     0.212766  0.645161    0.557185   \n",
       "2                Đường Hồng Hà     0.212766  0.412903   -0.268986   \n",
       "3          Đường Lê Hồng Phong     0.212766  0.412903   -0.268986   \n",
       "259              Phố Liễu Giai     0.425532  0.430107    1.412175   \n",
       "...                        ...          ...       ...         ...   \n",
       "247027           Đường Cửa Bắc     0.212766  0.593548    0.307412   \n",
       "247028           Đường Đào Tấn     0.265957  0.154838    0.115280   \n",
       "247029             Phố Trấn Vũ     0.313830  0.463768   -0.268986   \n",
       "247030    Đường Hoàng Hoa Thám     0.398936  0.239848   -0.461118   \n",
       "247031          Hoàng Hoa Thám     0.478723  0.203871   -0.345839   \n",
       "\n",
       "        do_rong_duong_s  ten_duong_encoded  gia_nha_predicted  so_do_encoded  \n",
       "0              0.376028                 53           0.390500              0  \n",
       "1              0.518919                 74           0.418456              0  \n",
       "2              0.081081                 45           0.258233              0  \n",
       "3              0.081081                 47           0.257812              0  \n",
       "259            0.783784                 19           0.556051              0  \n",
       "...                 ...                ...                ...            ...  \n",
       "247027         0.387110                 41           0.375304              0  \n",
       "247028         0.081081                 82           0.262163              0  \n",
       "247029         0.135135                 31           0.288879              0  \n",
       "247030         0.297297                 43           0.346526              0  \n",
       "247031         0.513514                  1           0.439304              0  \n",
       "\n",
       "[3592 rows x 13 columns]"
      ]
     },
     "execution_count": 123,
     "metadata": {},
     "output_type": "execute_result"
    }
   ],
   "source": [
    "# mã hóa cột ten_duong với Label encoder sử dụng pandas\n",
    "merged_df['ten_duong_encoded'] = merged_df['ten_duong'].astype('category').cat.codes\n",
    "merged_df"
   ]
  },
  {
   "cell_type": "code",
   "execution_count": 124,
   "metadata": {},
   "outputs": [
    {
     "name": "stdout",
     "output_type": "stream",
     "text": [
      "<class 'pandas.core.frame.DataFrame'>\n",
      "Int64Index: 3592 entries, 0 to 247031\n",
      "Data columns (total 13 columns):\n",
      " #   Column             Non-Null Count  Dtype  \n",
      "---  ------             --------------  -----  \n",
      " 0   dien_tich          3592 non-null   float64\n",
      " 1   mat_tien           3592 non-null   float64\n",
      " 2   gia_m2             3592 non-null   float64\n",
      " 3   so_do              3592 non-null   object \n",
      " 4   do_rong_duong      3592 non-null   float64\n",
      " 5   ten_duong          3592 non-null   object \n",
      " 6   dien_tich_s        3592 non-null   float64\n",
      " 7   gia_m2_s           3592 non-null   float64\n",
      " 8   mat_tien_s         3592 non-null   float64\n",
      " 9   do_rong_duong_s    3592 non-null   float64\n",
      " 10  ten_duong_encoded  3592 non-null   int8   \n",
      " 11  gia_nha_predicted  3592 non-null   float64\n",
      " 12  so_do_encoded      3592 non-null   int8   \n",
      "dtypes: float64(9), int8(2), object(2)\n",
      "memory usage: 343.8+ KB\n"
     ]
    }
   ],
   "source": [
    "merged_df.info()"
   ]
  },
  {
   "attachments": {},
   "cell_type": "markdown",
   "metadata": {},
   "source": [
    "## STEP 3: MODEL"
   ]
  },
  {
   "cell_type": "code",
   "execution_count": 67,
   "metadata": {},
   "outputs": [],
   "source": [
    "import matplotlib.pyplot as plt"
   ]
  },
  {
   "attachments": {},
   "cell_type": "markdown",
   "metadata": {},
   "source": [
    "### DATASET"
   ]
  },
  {
   "attachments": {},
   "cell_type": "markdown",
   "metadata": {},
   "source": [
    "### PP1. Tính toán ma trận tương quan giữa hai biến"
   ]
  },
  {
   "cell_type": "code",
   "execution_count": 125,
   "metadata": {},
   "outputs": [
    {
     "name": "stdout",
     "output_type": "stream",
     "text": [
      "             dien_tich_s  gia_m2_s\n",
      "dien_tich_s     1.000000  0.175161\n",
      "gia_m2_s        0.175161  1.000000\n",
      "            mat_tien_s  gia_m2_s\n",
      "mat_tien_s    1.000000  0.108801\n",
      "gia_m2_s      0.108801  1.000000\n",
      "                 do_rong_duong_s  gia_m2_s\n",
      "do_rong_duong_s         1.000000  0.402382\n",
      "gia_m2_s                0.402382  1.000000\n",
      "                   ten_duong_encoded  gia_m2_s\n",
      "ten_duong_encoded           1.000000 -0.164152\n",
      "gia_m2_s                   -0.164152  1.000000\n",
      "               so_do_encoded  gia_m2_s\n",
      "so_do_encoded            NaN       NaN\n",
      "gia_m2_s                 NaN       1.0\n"
     ]
    }
   ],
   "source": [
    "\n",
    "\n",
    "correlation_matrix1 = merged_df[['dien_tich_s', 'gia_m2_s']].corr()\n",
    "print(correlation_matrix1)\n",
    "\n",
    "correlation_matrix2 = merged_df[['mat_tien_s', 'gia_m2_s']].corr()\n",
    "print(correlation_matrix2)\n",
    "\n",
    "correlation_matrix3 = merged_df[['do_rong_duong_s', 'gia_m2_s']].corr()\n",
    "print(correlation_matrix3)\n",
    "\n",
    "correlation_matrix4 = merged_df[['ten_duong_encoded', 'gia_m2_s']].corr()\n",
    "print(correlation_matrix4)\n",
    "\n",
    "correlation_matrix4 = merged_df[['so_do_encoded', 'gia_m2_s']].corr()\n",
    "print(correlation_matrix4)\n"
   ]
  },
  {
   "attachments": {},
   "cell_type": "markdown",
   "metadata": {},
   "source": [
    "KL: \n",
    "Giá trị diện tích và giá m2 có tương quan dương nhẹ (0.174), tuy nhiên đây không phải là một tương quan mạnh.\n",
    "Giá m2 và mặt tiền cũng có tương quan dương nhẹ (0.111).\n",
    "Giá m2 và độ rộng đường có tương quan dương khá mạnh (0.406), nếu giá trị của một biến tăng thì giá trị của biến kia cũng tăng"
   ]
  },
  {
   "attachments": {},
   "cell_type": "markdown",
   "metadata": {},
   "source": [
    "### PP2. Phân tích hồi quy tuyến tính"
   ]
  },
  {
   "cell_type": "code",
   "execution_count": 101,
   "metadata": {},
   "outputs": [],
   "source": [
    "# Prepare dataset\n",
    "X = merged_df[['dien_tich_s', 'mat_tien_s', 'do_rong_duong_s', 'ten_duong_encoded']].values  #Do tham số so_do chưa ra được giá trị mong muốn nên tạm bỏ tham số đó trong việc xây mô hình\n",
    "y = merged_df['gia_m2_s'].values  \n",
    "\n",
    "# Split data into train and test sets\n",
    "X_train, X_test, y_train, y_test = train_test_split(X, y, test_size = 0.2, random_state = 19)"
   ]
  },
  {
   "cell_type": "code",
   "execution_count": 127,
   "metadata": {},
   "outputs": [
    {
     "name": "stdout",
     "output_type": "stream",
     "text": [
      "MSE =  0.02974756992482738\n",
      "R2 score =  0.19477873625530318\n",
      "MAPE: 8210.680072877352\n"
     ]
    }
   ],
   "source": [
    "#Tạo mô hình hồi quy tuyến tính và fit dữ liệu:\n",
    "\n",
    "reg = LinearRegression()    \n",
    "reg.fit(X_train, y_train)\n",
    "\n",
    "# Đánh giá độ mạnh của mô hình:\n",
    "y_pred = reg.predict(X_test)\n",
    "\n",
    "mse = mean_squared_error(y_test, y_pred)\n",
    "r2 = r2_score(y_test, y_pred)\n",
    "mape = mean_absolute_percentage_error(y_test, y_pred)\n",
    "\n",
    "print('MSE = ', mse)\n",
    "print('R2 score = ', r2)\n",
    "print(\"MAPE:\", mape)"
   ]
  },
  {
   "attachments": {},
   "cell_type": "markdown",
   "metadata": {},
   "source": [
    "### PP3.  Phân tích mô hình đa biến"
   ]
  },
  {
   "cell_type": "code",
   "execution_count": 126,
   "metadata": {},
   "outputs": [
    {
     "name": "stdout",
     "output_type": "stream",
     "text": [
      "MAPE: 8210.680072877365\n",
      "                            OLS Regression Results                            \n",
      "==============================================================================\n",
      "Dep. Variable:                      y   R-squared:                       0.171\n",
      "Model:                            OLS   Adj. R-squared:                  0.170\n",
      "Method:                 Least Squares   F-statistic:                     148.0\n",
      "Date:                Mon, 17 Apr 2023   Prob (F-statistic):          3.58e-115\n",
      "Time:                        15:18:55   Log-Likelihood:                 1015.1\n",
      "No. Observations:                2873   AIC:                            -2020.\n",
      "Df Residuals:                    2868   BIC:                            -1990.\n",
      "Df Model:                           4                                         \n",
      "Covariance Type:            nonrobust                                         \n",
      "==============================================================================\n",
      "                 coef    std err          t      P>|t|      [0.025      0.975]\n",
      "------------------------------------------------------------------------------\n",
      "const          0.2318      0.013     18.507      0.000       0.207       0.256\n",
      "x1             0.0948      0.017      5.709      0.000       0.062       0.127\n",
      "x2             0.0140      0.004      3.152      0.002       0.005       0.023\n",
      "x3             0.3363      0.017     19.593      0.000       0.303       0.370\n",
      "x4            -0.0002      0.000     -1.729      0.084      -0.000    3.08e-05\n",
      "==============================================================================\n",
      "Omnibus:                       48.549   Durbin-Watson:                   2.029\n",
      "Prob(Omnibus):                  0.000   Jarque-Bera (JB):               50.953\n",
      "Skew:                           0.309   Prob(JB):                     8.63e-12\n",
      "Kurtosis:                       3.211   Cond. No.                         345.\n",
      "==============================================================================\n",
      "\n",
      "Notes:\n",
      "[1] Standard Errors assume that the covariance matrix of the errors is correctly specified.\n"
     ]
    }
   ],
   "source": [
    "import statsmodels.api as sm\n",
    "\n",
    "X_train = sm.add_constant(X_train)\n",
    "\n",
    "model = sm.OLS(y_train, X_train)\n",
    "results = model.fit()\n",
    "\n",
    "X_test = sm.add_constant(X_test)\n",
    "y_pred = results.predict(X_test) \n",
    "\n",
    "mape = mean_absolute_percentage_error(y_test, y_pred)\n",
    "print(\"MAPE:\", mape)\n",
    "\n",
    "print(results.summary())"
   ]
  },
  {
   "attachments": {},
   "cell_type": "markdown",
   "metadata": {},
   "source": [
    "### PP4. Mô hình hồi quy phi tuyến"
   ]
  },
  {
   "cell_type": "code",
   "execution_count": 128,
   "metadata": {},
   "outputs": [
    {
     "name": "stdout",
     "output_type": "stream",
     "text": [
      "[ 0.00000000e+00  5.38802232e-14  1.38503594e-01  1.66362188e-02\n",
      "  9.92913515e-02 -1.03425862e-03  7.63278329e-17  1.38503594e-01\n",
      "  1.66362188e-02  9.92913515e-02 -1.03425862e-03 -2.69492629e-01\n",
      "  3.16852017e-02  7.95044419e-02 -1.68085737e-04 -1.16596006e-02\n",
      "  4.15776044e-02 -3.33794069e-04 -1.94952323e-02  4.19807692e-03\n",
      "  2.80814504e-06]\n",
      "MAPE: 7410.673375444853\n"
     ]
    }
   ],
   "source": [
    "\n",
    "from sklearn.preprocessing import PolynomialFeatures\n",
    "\n",
    "# Khởi tạo đối tượng PolynomialFeatures với bậc là 2\n",
    "poly = PolynomialFeatures(degree=2)\n",
    "\n",
    "# Biến đổi các biến đầu vào thành các biến phi tuyến\n",
    "X_poly = poly.fit_transform(X_test)\n",
    "\n",
    "# Khởi tạo mô hình hồi quy tuyến tính\n",
    "model = LinearRegression()\n",
    "\n",
    "# Thực hiện phân tích hồi quy phi tuyến\n",
    "model.fit(X_poly, y_test)\n",
    "\n",
    "# In hệ số ước lượng\n",
    "print(model.coef_)\n",
    "\n",
    "# Tính dự đoán giá nhà\n",
    "y_pred = model.predict(X_poly)\n",
    "\n",
    "# Tính MAPE\n",
    "mape = mean_absolute_percentage_error(y_test, y_pred)\n",
    "\n",
    "print(\"MAPE:\", mape)"
   ]
  },
  {
   "cell_type": "code",
   "execution_count": 130,
   "metadata": {},
   "outputs": [
    {
     "name": "stdout",
     "output_type": "stream",
     "text": [
      "Độ lệch chuẩn của giá nhà là: 0.18784993278859574 0.18787608662551866\n"
     ]
    }
   ],
   "source": [
    "### Các phương pháp đánh giá thêm về độ chính xác và độ tin cậy của dự đoán trong mô hình hồi quy (Thử làm thêm xem sao)\n",
    "# 1.Mean Squared Error (MSE):\n",
    "# 2. Kiểm định nhiễu Outlier\n",
    "\n",
    "# Tính độ lệch chuẩn của dữ liệu giá nhà\n",
    "std_gia1 = np.std(merged_df['gia_m2_s'])  # sử dụng NumPy\n",
    "std_gia2 = merged_df['gia_m2_s'].std()   # sử dụng pandas\n",
    "\n",
    "# In ra độ lệch chuẩn\n",
    "print(\"Độ lệch chuẩn của giá nhà là:\", std_gia1, std_gia2)"
   ]
  },
  {
   "attachments": {},
   "cell_type": "markdown",
   "metadata": {},
   "source": [
    "## STEP 4 - VISUALIZATION"
   ]
  },
  {
   "cell_type": "code",
   "execution_count": 143,
   "metadata": {},
   "outputs": [
    {
     "data": {
      "image/png": "[encoded data removed]",
      "text/plain": [
       "<Figure size 640x480 with 1 Axes>"
      ]
     },
     "metadata": {},
     "output_type": "display_data"
    }
   ],
   "source": [
    "# Distribution plot \n",
    "sns.histplot(y_test, color='green', label='Actual Values', kde=True)\n",
    "sns.histplot(y_pred, color='red', label='Predicted Values', kde=True)\n",
    "plt.xlabel(\"Values\")\n",
    "plt.ylabel(\"Frequency\")\n",
    "plt.title(\"Distribution of Actual vs. Predicted Values\")\n",
    "plt.legend()\n",
    "plt.show()"
   ]
  },
  {
   "cell_type": "code",
   "execution_count": 140,
   "metadata": {},
   "outputs": [
    {
     "data": {
      "image/png": "[encoded data removed]",
      "text/plain": [
       "<Figure size 640x480 with 1 Axes>"
      ]
     },
     "metadata": {},
     "output_type": "display_data"
    }
   ],
   "source": [
    "# Scatter plot\n",
    "plt.scatter(y_test, y_pred)\n",
    "plt.plot([y_test.min(), y_test.max()], [y_test.min(), y_test.max()], color='green', linestyle='--')\n",
    "plt.xlabel(\"Actual Values\")\n",
    "plt.ylabel(\"Predicted Values\")\n",
    "plt.title(\"Scatter Plot of Predicted vs. Actual Values\")\n",
    "plt.show()"
   ]
  },
  {
   "cell_type": "code",
   "execution_count": 136,
   "metadata": {},
   "outputs": [
    {
     "data": {
      "image/png": "[encoded data removed]",
      "text/plain": [
       "<Figure size 640x480 with 1 Axes>"
      ]
     },
     "metadata": {},
     "output_type": "display_data"
    }
   ],
   "source": [
    "# Create a scatter plot\n",
    "# sns.scatterplot(x=y_test, y=y_pred, alpha=0.5)\n",
    "\n",
    "# Add a diagonal line from (min, min) to (max, max) for reference\n",
    "plt.plot([y_test.min(), y_test.max()], [y_test.min(), y_test.max()], color='green', linestyle='--')\n",
    "\n",
    "# Set the x-axis and y-axis labels\n",
    "plt.xlabel('Actual Values')\n",
    "plt.ylabel('Predicted Values')\n",
    "\n",
    "# Set the title of the plot\n",
    "plt.title('Actual vs Predicted Values')\n",
    "\n",
    "# Create a heat map to show the density of points\n",
    "sns.kdeplot(x=y_test, y=y_pred, cmap='viridis', fill=True)\n",
    "\n",
    "# Show the plot\n",
    "plt.show()"
   ]
  }
 ],
 "metadata": {
  "kernelspec": {
   "display_name": "Python 3",
   "language": "python",
   "name": "python3"
  },
  "language_info": {
   "codemirror_mode": {
    "name": "ipython",
    "version": 3
   },
   "file_extension": ".py",
   "mimetype": "text/x-python",
   "name": "python",
   "nbconvert_exporter": "python",
   "pygments_lexer": "ipython3",
   "version": "3.11.2"
  },
  "orig_nbformat": 4
 },
 "nbformat": 4,
 "nbformat_minor": 2
}
